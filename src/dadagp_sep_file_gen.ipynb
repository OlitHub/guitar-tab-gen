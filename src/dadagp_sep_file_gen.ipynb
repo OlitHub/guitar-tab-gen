{
 "cells": [
  {
   "cell_type": "code",
   "execution_count": 1,
   "metadata": {},
   "outputs": [],
   "source": [
    "from aux_fun import get_tokens_inst_iterate_over_files"
   ]
  },
  {
   "cell_type": "code",
   "execution_count": null,
   "metadata": {},
   "outputs": [
    {
     "name": "stderr",
     "output_type": "stream",
     "text": [
      "Scores computed: 100%|██████████| 4871/4871 [08:12<00:00,  9.89it/s]\n"
     ]
    }
   ],
   "source": [
    "# Select the instruments to keep by setting the value to True\n",
    "instrument_to_keep = {\n",
    "        \"distorted0\": True,\n",
    "        \"distorted1\": False,\n",
    "        \"distorted2\": False,\n",
    "        \"clean0\": True,\n",
    "        \"clean1\": False,\n",
    "        \"bass\": False,\n",
    "        \"leads\": False,    \n",
    "        \"pads\": False,\n",
    "        \"drums\": False,\n",
    "    }\n",
    "\n",
    "path_to_general_read_folder = \"..\\data\\DadaGP\\DadaGP-v1.1\"\n",
    "path_to_general_write_folder = \"..\\data\\BGTG\\BGTG-v0.1\"\n",
    "\n",
    "get_tokens_inst_iterate_over_files(instrument_to_keep, path_to_general_read_folder, path_to_general_write_folder)\n",
    "\n",
    "# 8min10s to generate all the token files with only bass and clean0\n",
    "# 5min30s or 4min49s to generate all the token files with only bass (depending on whether we write the tracks that don't have bass or not)\n",
    "# 8min12s to generate the token files with the guitars (clean and distorted)"
   ]
  }
 ],
 "metadata": {
  "kernelspec": {
   "display_name": "guitar-tab-gen-46NkS0NQ-py3.11",
   "language": "python",
   "name": "python3"
  },
  "language_info": {
   "codemirror_mode": {
    "name": "ipython",
    "version": 3
   },
   "file_extension": ".py",
   "mimetype": "text/x-python",
   "name": "python",
   "nbconvert_exporter": "python",
   "pygments_lexer": "ipython3",
   "version": "3.11.7"
  }
 },
 "nbformat": 4,
 "nbformat_minor": 2
}
