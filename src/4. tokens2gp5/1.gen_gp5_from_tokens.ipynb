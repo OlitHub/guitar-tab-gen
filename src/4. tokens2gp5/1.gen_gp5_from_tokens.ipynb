{
 "cells": [
  {
   "cell_type": "markdown",
   "metadata": {},
   "source": [
    "### Take generated tokens and output gp5 files"
   ]
  },
  {
   "cell_type": "code",
   "execution_count": 3,
   "metadata": {},
   "outputs": [
    {
     "name": "stdout",
     "output_type": "stream",
     "text": [
      "The autoreload extension is already loaded. To reload it, use:\n",
      "  %reload_ext autoreload\n"
     ]
    }
   ],
   "source": [
    "# Import the autoreload extension\n",
    "%load_ext autoreload\n",
    "\n",
    "# Set autoreload to reload all modules (except those excluded by %aimport)\n",
    "%autoreload 2\n",
    "\n",
    "import os\n",
    "os.environ[\"CUDA_VISIBLE_DEVICES\"]=\"0\" #for GPU inference\n",
    "from glob import glob\n",
    "\n",
    "from dadagp import dadagp_conversion"
   ]
  },
  {
   "cell_type": "code",
   "execution_count": 6,
   "metadata": {},
   "outputs": [],
   "source": [
    "#input folder (put txt token files of rg only here)\n",
    "inp_path = glob('../3. inference/tokens_out_kaggle/*')\n",
    "#output folder\n",
    "out_path = './generated_gp5_kaggle/'"
   ]
  },
  {
   "cell_type": "code",
   "execution_count": 7,
   "metadata": {},
   "outputs": [
    {
     "name": "stdout",
     "output_type": "stream",
     "text": [
      "Processing: DECODE from ../3. inference/tokens_out_kaggle\\ACDC - Highway to Hell_with_bass_0.7.txt to ./generated_gp5_kaggle/ACDC - Highway to Hell_with_bass_0.7.gp5\n",
      "✅ Done.\n",
      "Decoded ACDC - Highway to Hell_with_bass_0.7 to ./generated_gp5_kaggle/ACDC - Highway to Hell_with_bass_0.7.gp5\n",
      "\n",
      "Processing: DECODE from ../3. inference/tokens_out_kaggle\\ACDC - Highway to Hell_with_bass_0.9.txt to ./generated_gp5_kaggle/ACDC - Highway to Hell_with_bass_0.9.gp5\n",
      "✅ Done.\n",
      "Decoded ACDC - Highway to Hell_with_bass_0.9 to ./generated_gp5_kaggle/ACDC - Highway to Hell_with_bass_0.9.gp5\n",
      "\n",
      "Processing: DECODE from ../3. inference/tokens_out_kaggle\\ACDC - Highway to Hell_with_bass_1.1.txt to ./generated_gp5_kaggle/ACDC - Highway to Hell_with_bass_1.1.gp5\n",
      "✅ Done.\n",
      "Decoded ACDC - Highway to Hell_with_bass_1.1 to ./generated_gp5_kaggle/ACDC - Highway to Hell_with_bass_1.1.gp5\n",
      "\n",
      "Processing: DECODE from ../3. inference/tokens_out_kaggle\\Genesis - I Cant Dance_with_bass_0.7.txt to ./generated_gp5_kaggle/Genesis - I Cant Dance_with_bass_0.7.gp5\n",
      "✅ Done.\n",
      "Decoded Genesis - I Cant Dance_with_bass_0.7 to ./generated_gp5_kaggle/Genesis - I Cant Dance_with_bass_0.7.gp5\n",
      "\n",
      "Processing: DECODE from ../3. inference/tokens_out_kaggle\\Genesis - I Cant Dance_with_bass_0.9.txt to ./generated_gp5_kaggle/Genesis - I Cant Dance_with_bass_0.9.gp5\n",
      "✅ Done.\n",
      "Decoded Genesis - I Cant Dance_with_bass_0.9 to ./generated_gp5_kaggle/Genesis - I Cant Dance_with_bass_0.9.gp5\n",
      "\n",
      "Processing: DECODE from ../3. inference/tokens_out_kaggle\\Genesis - I Cant Dance_with_bass_1.1.txt to ./generated_gp5_kaggle/Genesis - I Cant Dance_with_bass_1.1.gp5\n",
      "✅ Done.\n",
      "Decoded Genesis - I Cant Dance_with_bass_1.1 to ./generated_gp5_kaggle/Genesis - I Cant Dance_with_bass_1.1.gp5\n",
      "\n",
      "Processing: DECODE from ../3. inference/tokens_out_kaggle\\Metallica - Enter Sandman (5)_with_bass_0.7.txt to ./generated_gp5_kaggle/Metallica - Enter Sandman (5)_with_bass_0.7.gp5\n",
      "✅ Done.\n",
      "Decoded Metallica - Enter Sandman (5)_with_bass_0.7 to ./generated_gp5_kaggle/Metallica - Enter Sandman (5)_with_bass_0.7.gp5\n",
      "\n",
      "Processing: DECODE from ../3. inference/tokens_out_kaggle\\Metallica - Enter Sandman (5)_with_bass_0.9.txt to ./generated_gp5_kaggle/Metallica - Enter Sandman (5)_with_bass_0.9.gp5\n",
      "✅ Done.\n",
      "Decoded Metallica - Enter Sandman (5)_with_bass_0.9 to ./generated_gp5_kaggle/Metallica - Enter Sandman (5)_with_bass_0.9.gp5\n",
      "\n",
      "Processing: DECODE from ../3. inference/tokens_out_kaggle\\Metallica - Enter Sandman (5)_with_bass_1.1.txt to ./generated_gp5_kaggle/Metallica - Enter Sandman (5)_with_bass_1.1.gp5\n",
      "✅ Done.\n",
      "Decoded Metallica - Enter Sandman (5)_with_bass_1.1 to ./generated_gp5_kaggle/Metallica - Enter Sandman (5)_with_bass_1.1.gp5\n",
      "\n",
      "Processing: DECODE from ../3. inference/tokens_out_kaggle\\Muse - Plug In Baby (2)_with_bass_0.7.txt to ./generated_gp5_kaggle/Muse - Plug In Baby (2)_with_bass_0.7.gp5\n",
      "Failed to decode Muse - Plug In Baby (2)_with_bass_0.7\n",
      "\n",
      "Processing: DECODE from ../3. inference/tokens_out_kaggle\\Muse - Plug In Baby (2)_with_bass_0.9.txt to ./generated_gp5_kaggle/Muse - Plug In Baby (2)_with_bass_0.9.gp5\n",
      "✅ Done.\n",
      "Decoded Muse - Plug In Baby (2)_with_bass_0.9 to ./generated_gp5_kaggle/Muse - Plug In Baby (2)_with_bass_0.9.gp5\n",
      "\n",
      "Processing: DECODE from ../3. inference/tokens_out_kaggle\\Muse - Plug In Baby (2)_with_bass_1.1.txt to ./generated_gp5_kaggle/Muse - Plug In Baby (2)_with_bass_1.1.gp5\n",
      "✅ Done.\n",
      "Decoded Muse - Plug In Baby (2)_with_bass_1.1 to ./generated_gp5_kaggle/Muse - Plug In Baby (2)_with_bass_1.1.gp5\n",
      "\n",
      "Processing: DECODE from ../3. inference/tokens_out_kaggle\\Radiohead - Exit Music (For a Film)_with_bass_0.7.txt to ./generated_gp5_kaggle/Radiohead - Exit Music (For a Film)_with_bass_0.7.gp5\n",
      "✅ Done.\n",
      "Decoded Radiohead - Exit Music (For a Film)_with_bass_0.7 to ./generated_gp5_kaggle/Radiohead - Exit Music (For a Film)_with_bass_0.7.gp5\n",
      "\n",
      "Processing: DECODE from ../3. inference/tokens_out_kaggle\\Radiohead - Exit Music (For a Film)_with_bass_0.9.txt to ./generated_gp5_kaggle/Radiohead - Exit Music (For a Film)_with_bass_0.9.gp5\n",
      "✅ Done.\n",
      "Decoded Radiohead - Exit Music (For a Film)_with_bass_0.9 to ./generated_gp5_kaggle/Radiohead - Exit Music (For a Film)_with_bass_0.9.gp5\n",
      "\n",
      "Processing: DECODE from ../3. inference/tokens_out_kaggle\\Radiohead - Exit Music (For a Film)_with_bass_1.1.txt to ./generated_gp5_kaggle/Radiohead - Exit Music (For a Film)_with_bass_1.1.gp5\n",
      "✅ Done.\n",
      "Decoded Radiohead - Exit Music (For a Film)_with_bass_1.1 to ./generated_gp5_kaggle/Radiohead - Exit Music (For a Film)_with_bass_1.1.gp5\n",
      "\n",
      "Processing: DECODE from ../3. inference/tokens_out_kaggle\\System Of A Down - Chop Suey_with_bass_0.7.txt to ./generated_gp5_kaggle/System Of A Down - Chop Suey_with_bass_0.7.gp5\n",
      "✅ Done.\n",
      "Decoded System Of A Down - Chop Suey_with_bass_0.7 to ./generated_gp5_kaggle/System Of A Down - Chop Suey_with_bass_0.7.gp5\n",
      "\n",
      "Processing: DECODE from ../3. inference/tokens_out_kaggle\\System Of A Down - Chop Suey_with_bass_0.9.txt to ./generated_gp5_kaggle/System Of A Down - Chop Suey_with_bass_0.9.gp5\n",
      "✅ Done.\n",
      "Decoded System Of A Down - Chop Suey_with_bass_0.9 to ./generated_gp5_kaggle/System Of A Down - Chop Suey_with_bass_0.9.gp5\n",
      "\n",
      "Processing: DECODE from ../3. inference/tokens_out_kaggle\\System Of A Down - Chop Suey_with_bass_1.1.txt to ./generated_gp5_kaggle/System Of A Down - Chop Suey_with_bass_1.1.gp5\n",
      "✅ Done.\n",
      "Decoded System Of A Down - Chop Suey_with_bass_1.1 to ./generated_gp5_kaggle/System Of A Down - Chop Suey_with_bass_1.1.gp5\n",
      "\n"
     ]
    }
   ],
   "source": [
    "for token_file in inp_path:\n",
    "    trk_name = token_file.split('\\\\')[-1][:-4]\n",
    "    output_file = out_path + trk_name + '.gp5'\n",
    "    try:\n",
    "        dadagp_conversion(\"decode\", token_file, output_file, verbose=False)\n",
    "        print(f\"Decoded {trk_name} to {output_file}\\n\")\n",
    "    except:\n",
    "        print(f\"Failed to decode {trk_name}\\n\")"
   ]
  }
 ],
 "metadata": {
  "kernelspec": {
   "display_name": "DADAGP",
   "language": "python",
   "name": "python3"
  },
  "language_info": {
   "codemirror_mode": {
    "name": "ipython",
    "version": 3
   },
   "file_extension": ".py",
   "mimetype": "text/x-python",
   "name": "python",
   "nbconvert_exporter": "python",
   "pygments_lexer": "ipython3",
   "version": "3.13.2"
  }
 },
 "nbformat": 4,
 "nbformat_minor": 2
}
