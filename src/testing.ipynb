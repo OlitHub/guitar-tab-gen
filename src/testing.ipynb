{
 "cells": [
  {
   "cell_type": "markdown",
   "metadata": {},
   "source": [
    "## First notebook! Testing PyGuitarPro library and the DadaGP dataset."
   ]
  },
  {
   "cell_type": "code",
   "execution_count": 2,
   "metadata": {},
   "outputs": [],
   "source": [
    "import guitarpro as gp\n",
    "import pandas as pd\n",
    "import numpy as np\n",
    "import seaborn as sns"
   ]
  },
  {
   "cell_type": "markdown",
   "metadata": {},
   "source": [
    "### Guitarpro tuto"
   ]
  },
  {
   "cell_type": "code",
   "execution_count": 6,
   "metadata": {},
   "outputs": [],
   "source": [
    "# To read a file\n",
    "filename = '..\\data\\DadaGP\\DadaGP-v1.1\\R\\Radiohead\\Radiohead - Exit Music (For a Film).gp3'\n",
    "gp_file = gp.parse(filename)\n",
    "\n",
    "# to write a file\n",
    "gp.write(gp_file, '../outputs/exit_music.gp5')"
   ]
  },
  {
   "cell_type": "code",
   "execution_count": 11,
   "metadata": {},
   "outputs": [
    {
     "data": {
      "text/plain": [
       "[Note(value=2, velocity=95, string=4, effect=<guitarpro.models.NoteEffect object at 0x000002595767ECB0>, durationPercent=1.0, swapAccidentals=False, type=<NoteType.normal: 1>),\n",
       " Note(value=0, velocity=95, string=5, effect=<guitarpro.models.NoteEffect object at 0x000002595767EEF0>, durationPercent=1.0, swapAccidentals=False, type=<NoteType.normal: 1>)]"
      ]
     },
     "execution_count": 11,
     "metadata": {},
     "output_type": "execute_result"
    }
   ],
   "source": [
    "gp_file.tracks[0].measures[0].voices[0].beats[0].notes"
   ]
  },
  {
   "cell_type": "code",
   "execution_count": 3,
   "metadata": {},
   "outputs": [],
   "source": [
    "import torch"
   ]
  }
 ],
 "metadata": {
  "kernelspec": {
   "display_name": "guitar-tab-gen-46NkS0NQ-py3.11",
   "language": "python",
   "name": "python3"
  },
  "language_info": {
   "codemirror_mode": {
    "name": "ipython",
    "version": 3
   },
   "file_extension": ".py",
   "mimetype": "text/x-python",
   "name": "python",
   "nbconvert_exporter": "python",
   "pygments_lexer": "ipython3",
   "version": "3.11.7"
  }
 },
 "nbformat": 4,
 "nbformat_minor": 2
}
