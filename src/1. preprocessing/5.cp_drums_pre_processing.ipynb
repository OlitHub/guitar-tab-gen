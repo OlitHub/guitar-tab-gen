{
 "cells": [
  {
   "cell_type": "markdown",
   "metadata": {},
   "source": [
    "### Loading the dataset in a big dict\n",
    "\n",
    "In this notebook we perform the conversion of the txt tokens to a 2D file containing for each song the sequence of ids of its tokens.\n",
    "For a song to be added to the dataset, it needs to contain bass guitar and a rhythmic guitar."
   ]
  },
  {
   "cell_type": "code",
   "execution_count": 29,
   "metadata": {},
   "outputs": [],
   "source": [
    "import pandas as pd\n",
    "import numpy as np\n",
    "from tqdm import tqdm\n",
    "import guitarpro as pygp\n",
    "import pathlib\n",
    "import pickle\n",
    "import matplotlib.pyplot as plt\n"
   ]
  },
  {
   "cell_type": "code",
   "execution_count": 30,
   "metadata": {},
   "outputs": [],
   "source": [
    "path_to_bass_folder = pathlib.Path(\"..\\..\\data\\BGTG\\BGTG_Bass\")\n",
    "thr_measures = 16\n",
    "thr_max_tokens = 800\n",
    "thr_min_tokens = 50\n",
    "# Iterate over all the alphabetical and group folders within each folders \n",
    "# For the first implementation we will assume that if a song has bass it also has RG."
   ]
  },
  {
   "cell_type": "code",
   "execution_count": 31,
   "metadata": {},
   "outputs": [
    {
     "name": "stderr",
     "output_type": "stream",
     "text": [
      "Generating sequences of ids: 100%|██████████| 14480/14480 [00:15<00:00, 953.05it/s] "
     ]
    },
    {
     "name": "stdout",
     "output_type": "stream",
     "text": [
      "Path errors:  1480 Token errors:  1980\n"
     ]
    },
    {
     "name": "stderr",
     "output_type": "stream",
     "text": [
      "\n"
     ]
    }
   ],
   "source": [
    "# Loop on the files of the bass folder, for each file check if there is a corresponding file in the RG folder\n",
    "# Then generate the bass sequence and the RG sequence \n",
    "path_errors=0 # Count songs that have bass but no RG\n",
    "token_errors=0 # Count songs that have too many or too few tokens\n",
    "path_errors_list=[]\n",
    "big_dict = {'All_Events':[], 'Encoder_RG':[], 'Decoder_Bass':[]}\n",
    "\n",
    "# big_dict will have the following structure:\n",
    "# keys: encoder_rg, decoder_bass\n",
    "# big_dict['encoder_rg'][0] = list of rg txt tokens for the first song\n",
    "# big_dict['decoder_bass'][0] = list of bass txt tokens for the first song\n",
    "\n",
    "for bass_file_path in tqdm(path_to_bass_folder.rglob(\"*.txt\"), total=14480, desc=\"Generating sequences of ids\"):\n",
    "    # Replace _bass with _rythmic and BGTG_Bass by BGTG_RG to get the corresponding RG file\n",
    "    rg_file_path = pathlib.Path((str(bass_file_path).replace(\"_bass.txt\", \"_rythmic.txt\")).replace(\"BGTG_Bass\", \"BGTG_RG\"))\n",
    "    all_file_path = pathlib.Path((str(bass_file_path).replace(\"_bass.txt\", \"_rythmic.txt\")).replace(\"BGTG_Bass\", \"BGTG_RG_Bass\"))\n",
    "\n",
    "    song_name = bass_file_path.stem.split(\"_\")[0]\n",
    "    \n",
    "    if rg_file_path.exists() and all_file_path.exists():\n",
    "        bass_sequence = []\n",
    "        rg_sequence = []\n",
    "        all_events_sequence = []\n",
    "        remove_song = False\n",
    "        # Truncate the token sequences at a certain number of measures\n",
    "        # Remove the token sequences that have too much tokens\n",
    "        \n",
    "        # Open the bass file\n",
    "        with open(bass_file_path, 'r') as bass_file:\n",
    "            bass_lines = bass_file.readlines()\n",
    "            count_measures = 0\n",
    "            bass_token_count = 0\n",
    "            for line in bass_lines:\n",
    "                bass_token_count+=1\n",
    "                if line.strip() == \"new_measure\":\n",
    "                    count_measures+=1\n",
    "                    if count_measures == thr_measures:\n",
    "                        break\n",
    "                    \n",
    "                bass_sequence.append(line.strip())\n",
    "                \n",
    "            if bass_token_count >= thr_max_tokens or bass_token_count <= thr_min_tokens:\n",
    "                # print(\"Song removed, too many or too few bass tokens\", song_name, bass_token_count)\n",
    "                remove_song = True\n",
    "                token_errors+=1\n",
    "                \n",
    "        if remove_song:\n",
    "            continue\n",
    "        \n",
    "        with open(rg_file_path, 'r') as rg_file:\n",
    "            rg_lines = rg_file.readlines()\n",
    "            count_measures = 0\n",
    "            rg_token_count = 0\n",
    "            for line in rg_lines:\n",
    "                rg_token_count+=1\n",
    "                if line.strip() == \"new_measure\":\n",
    "                    count_measures+=1\n",
    "                    if count_measures == thr_measures:\n",
    "                        break\n",
    "            \n",
    "                rg_sequence.append(line.strip())\n",
    "                \n",
    "            if rg_token_count >= thr_max_tokens or rg_token_count <= thr_min_tokens:\n",
    "                # print(\"Song removed, too many or too few RG tokens\", song_name, rg_token_count)\n",
    "                remove_song = True\n",
    "                token_errors+=1\n",
    "                \n",
    "        if remove_song:\n",
    "            continue\n",
    "                \n",
    "        with open(all_file_path, 'r') as all_file:\n",
    "            all_lines = all_file.readlines()\n",
    "            count_measures = 0\n",
    "            for line in all_lines:\n",
    "                if line.strip() == \"new_measure\":\n",
    "                    count_measures+=1\n",
    "                    if count_measures == thr_measures:\n",
    "                        break\n",
    "\n",
    "                all_events_sequence.append(line.strip())\n",
    "        \n",
    "        if not remove_song:\n",
    "            big_dict['Encoder_RG'].append(rg_sequence)\n",
    "            big_dict['Decoder_Bass'].append(bass_sequence)\n",
    "            big_dict['All_Events'].append(all_events_sequence)\n",
    "        \n",
    "    else:\n",
    "        path_errors+=1\n",
    "        path_errors_list.append((song_name, bass_file_path, rg_file_path, all_file_path))\n",
    "\n",
    "print(\"Path errors: \", path_errors, \"Token errors: \", token_errors)"
   ]
  },
  {
   "cell_type": "code",
   "execution_count": 32,
   "metadata": {},
   "outputs": [],
   "source": [
    "# Dump the big_dict to a pickle file\n",
    "\n",
    "with open(\"..\\..\\data\\preprocessed_dadagp_\" + str(thr_measures) + '_' + str(thr_max_tokens) + '_' + str(thr_min_tokens) + \".pickle\", \"wb\") as handle:\n",
    "    pickle.dump(big_dict, handle, pickle.HIGHEST_PROTOCOL)"
   ]
  },
  {
   "cell_type": "code",
   "execution_count": 33,
   "metadata": {},
   "outputs": [
    {
     "data": {
      "text/plain": [
       "(11020, 11020, 11020)"
      ]
     },
     "execution_count": 33,
     "metadata": {},
     "output_type": "execute_result"
    }
   ],
   "source": [
    "len(big_dict['Encoder_RG']), len(big_dict['Decoder_Bass']), len(big_dict['All_Events'])"
   ]
  },
  {
   "cell_type": "code",
   "execution_count": null,
   "metadata": {},
   "outputs": [
    {
     "name": "stdout",
     "output_type": "stream",
     "text": [
      "Max encoder length:  798\n",
      "Max decoder length:  792\n",
      "Min encoder length:  50\n",
      "Min decoder length:  50\n",
      "Average encoder length:  345.06696914700547\n",
      "Average decoder length:  218.1606170598911\n",
      "Median encoder length:  324.0\n",
      "Median decoder length:  205.0\n"
     ]
    },
    {
     "data": {
      "image/png": "[encoded data removed]",
      "text/plain": [
       "<Figure size 864x360 with 2 Axes>"
      ]
     },
     "metadata": {
      "needs_background": "light"
     },
     "output_type": "display_data"
    }
   ],
   "source": [
    "DEC_LENGTH = []\n",
    "ENC_LENGTH = []\n",
    "\n",
    "for k in range(0, len(big_dict['Encoder_RG'])):\n",
    "    #get max, min and average length of the sequences\n",
    "    DEC_LENGTH.append(len(big_dict['Decoder_Bass'][k]))\n",
    "    ENC_LENGTH.append(len(big_dict['Encoder_RG'][k]))\n",
    "    \n",
    "max_enc_length = max(ENC_LENGTH)\n",
    "max_dec_length = max(DEC_LENGTH)\n",
    "min_enc_length = min(ENC_LENGTH)\n",
    "min_dec_length = min(DEC_LENGTH)\n",
    "avg_enc_length = np.mean(ENC_LENGTH)\n",
    "avg_dec_length = np.mean(DEC_LENGTH)\n",
    "med_enc_length = np.median(ENC_LENGTH)\n",
    "med_dec_length = np.median(DEC_LENGTH)\n",
    "\n",
    "print(\"Max encoder length: \", max_enc_length)\n",
    "print(\"Max decoder length: \", max_dec_length)\n",
    "print(\"Min encoder length: \", min_enc_length)\n",
    "print(\"Min decoder length: \", min_dec_length)\n",
    "print(\"Average encoder length: \", avg_enc_length)\n",
    "print(\"Average decoder length: \", avg_dec_length)\n",
    "print(\"Median encoder length: \", med_enc_length)\n",
    "print(\"Median decoder length: \", med_dec_length)\n",
    "\n",
    "# Distribution of the lengths of the sequences\n",
    "fig, axes = plt.subplots(1, 2, figsize=(12, 5))  # 1 row, 2 columns\n",
    "\n",
    "axes[0].hist(ENC_LENGTH, bins=50)\n",
    "axes[0].set_title(\"Encoder sequence lengths\")\n",
    "\n",
    "axes[1].hist(DEC_LENGTH, bins=50)\n",
    "axes[1].set_title(\"Decoder sequence lengths\")\n",
    "\n",
    "plt.tight_layout()  # Adjust layout for better spacing\n",
    "plt.show()"
   ]
  }
 ],
 "metadata": {
  "kernelspec": {
   "display_name": "DADAGP",
   "language": "python",
   "name": "python3"
  },
  "language_info": {
   "codemirror_mode": {
    "name": "ipython",
    "version": 3
   },
   "file_extension": ".py",
   "mimetype": "text/x-python",
   "name": "python",
   "nbconvert_exporter": "python",
   "pygments_lexer": "ipython3",
   "version": "3.9.21"
  }
 },
 "nbformat": 4,
 "nbformat_minor": 2
}
