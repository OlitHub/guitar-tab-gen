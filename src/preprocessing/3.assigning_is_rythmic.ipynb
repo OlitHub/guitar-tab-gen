{
 "cells": [
  {
   "cell_type": "code",
   "execution_count": null,
   "metadata": {},
   "outputs": [],
   "source": [
    "from aux_fun import get_tokens_inst_iter_folders\n",
    "import pandas as pd\n",
    "import numpy as np\n",
    "from tqdm import tqdm\n",
    "import os\n",
    "import guitarpro as pygp\n",
    "import glob\n",
    "\n",
    "path_to_general_read_folder = \"..\\..\\data\\DadaGP\\DadaGP-v1.1\"\n",
    "path_to_general_write_folder = \"..\\..\\data\\BGTG\\BGTG-v0.1\""
   ]
  },
  {
   "cell_type": "markdown",
   "metadata": {},
   "source": [
    "#### Assigning the rythmic guitar to each track"
   ]
  },
  {
   "cell_type": "code",
   "execution_count": null,
   "metadata": {},
   "outputs": [
    {
     "data": {
      "text/html": [
       "<div>\n",
       "<style scoped>\n",
       "    .dataframe tbody tr th:only-of-type {\n",
       "        vertical-align: middle;\n",
       "    }\n",
       "\n",
       "    .dataframe tbody tr th {\n",
       "        vertical-align: top;\n",
       "    }\n",
       "\n",
       "    .dataframe thead th {\n",
       "        text-align: right;\n",
       "    }\n",
       "</style>\n",
       "<table border=\"1\" class=\"dataframe\">\n",
       "  <thead>\n",
       "    <tr style=\"text-align: right;\">\n",
       "      <th></th>\n",
       "      <th>Fichier</th>\n",
       "      <th>Track_Name</th>\n",
       "      <th>Partie</th>\n",
       "      <th>Instrument</th>\n",
       "      <th>Mesure</th>\n",
       "      <th>DadaGP_name</th>\n",
       "      <th>File_Name</th>\n",
       "      <th>rg-estimation</th>\n",
       "    </tr>\n",
       "  </thead>\n",
       "  <tbody>\n",
       "    <tr>\n",
       "      <th>255</th>\n",
       "      <td>../data/DadaGP8-gpif/12 Stones - Crash-Bass.gpif</td>\n",
       "      <td>Crash\\n12 Stones</td>\n",
       "      <td>Bass</td>\n",
       "      <td>bass</td>\n",
       "      <td>9</td>\n",
       "      <td>bass</td>\n",
       "      <td>12 Stones - Crash</td>\n",
       "      <td>0.953768</td>\n",
       "    </tr>\n",
       "    <tr>\n",
       "      <th>256</th>\n",
       "      <td>../data/DadaGP8-gpif/12 Stones - Crash-Bass.gpif</td>\n",
       "      <td>Crash\\n12 Stones</td>\n",
       "      <td>Bass</td>\n",
       "      <td>bass</td>\n",
       "      <td>10</td>\n",
       "      <td>bass</td>\n",
       "      <td>12 Stones - Crash</td>\n",
       "      <td>0.964169</td>\n",
       "    </tr>\n",
       "    <tr>\n",
       "      <th>257</th>\n",
       "      <td>../data/DadaGP8-gpif/12 Stones - Crash-Bass.gpif</td>\n",
       "      <td>Crash\\n12 Stones</td>\n",
       "      <td>Bass</td>\n",
       "      <td>bass</td>\n",
       "      <td>11</td>\n",
       "      <td>bass</td>\n",
       "      <td>12 Stones - Crash</td>\n",
       "      <td>0.962112</td>\n",
       "    </tr>\n",
       "    <tr>\n",
       "      <th>258</th>\n",
       "      <td>../data/DadaGP8-gpif/12 Stones - Crash-Bass.gpif</td>\n",
       "      <td>Crash\\n12 Stones</td>\n",
       "      <td>Bass</td>\n",
       "      <td>bass</td>\n",
       "      <td>12</td>\n",
       "      <td>bass</td>\n",
       "      <td>12 Stones - Crash</td>\n",
       "      <td>0.986466</td>\n",
       "    </tr>\n",
       "    <tr>\n",
       "      <th>259</th>\n",
       "      <td>../data/DadaGP8-gpif/12 Stones - Crash-Bass.gpif</td>\n",
       "      <td>Crash\\n12 Stones</td>\n",
       "      <td>Bass</td>\n",
       "      <td>bass</td>\n",
       "      <td>13</td>\n",
       "      <td>bass</td>\n",
       "      <td>12 Stones - Crash</td>\n",
       "      <td>0.983138</td>\n",
       "    </tr>\n",
       "  </tbody>\n",
       "</table>\n",
       "</div>"
      ],
      "text/plain": [
       "                                              Fichier        Track_Name  \\\n",
       "255  ../data/DadaGP8-gpif/12 Stones - Crash-Bass.gpif  Crash\\n12 Stones   \n",
       "256  ../data/DadaGP8-gpif/12 Stones - Crash-Bass.gpif  Crash\\n12 Stones   \n",
       "257  ../data/DadaGP8-gpif/12 Stones - Crash-Bass.gpif  Crash\\n12 Stones   \n",
       "258  ../data/DadaGP8-gpif/12 Stones - Crash-Bass.gpif  Crash\\n12 Stones   \n",
       "259  ../data/DadaGP8-gpif/12 Stones - Crash-Bass.gpif  Crash\\n12 Stones   \n",
       "\n",
       "    Partie Instrument  Mesure DadaGP_name          File_Name  rg-estimation  \n",
       "255   Bass       bass       9        bass  12 Stones - Crash       0.953768  \n",
       "256   Bass       bass      10        bass  12 Stones - Crash       0.964169  \n",
       "257   Bass       bass      11        bass  12 Stones - Crash       0.962112  \n",
       "258   Bass       bass      12        bass  12 Stones - Crash       0.986466  \n",
       "259   Bass       bass      13        bass  12 Stones - Crash       0.983138  "
      ]
     },
     "metadata": {},
     "output_type": "display_data"
    },
    {
     "data": {
      "text/plain": [
       "((298881, 8), 10)"
      ]
     },
     "metadata": {},
     "output_type": "display_data"
    }
   ],
   "source": [
    "# # now let's take a look at the instruments that generally are rythmic\n",
    "# df_rg_augmented.columns\n",
    "# # We remove the features columns of the dataset\n",
    "\n",
    "# df_rg_aug_essentials = df_rg_augmented[['Fichier', 'Track_Name', 'Partie', 'Instrument', 'DadaGP_name', 'Mesure', 'rg-estimation']]\n",
    "\n",
    "df_rg_aug_essentials = total_df_track[['Fichier', 'Track_Name', 'Partie', 'Instrument', 'Mesure', 'DadaGP_name', 'File_Name', 'rg-estimation']]\n",
    "display(df_rg_aug_essentials.head())\n",
    "df_rg_aug_essentials.shape, df_rg_aug_essentials['DadaGP_name'].nunique()"
   ]
  },
  {
   "cell_type": "code",
   "execution_count": null,
   "metadata": {},
   "outputs": [
    {
     "name": "stderr",
     "output_type": "stream",
     "text": [
      "C:\\Users\\oanou\\AppData\\Local\\Temp\\ipykernel_31820\\2434559761.py:12: SettingWithCopyWarning: \n",
      "A value is trying to be set on a copy of a slice from a DataFrame.\n",
      "Try using .loc[row_indexer,col_indexer] = value instead\n",
      "\n",
      "See the caveats in the documentation: https://pandas.pydata.org/pandas-docs/stable/user_guide/indexing.html#returning-a-view-versus-a-copy\n",
      "  df_rg_aug_essentials.loc[:, 'is_rythmic'] = df_rg_aug_essentials['rg-estimation'] < thr\n"
     ]
    },
    {
     "data": {
      "text/plain": [
       "is_rythmic\n",
       "True     254041\n",
       "False     44840\n",
       "Name: count, dtype: int64"
      ]
     },
     "metadata": {},
     "output_type": "display_data"
    }
   ],
   "source": [
    "# Now let's loop again on the tracks and take a look at what instruments are generally rythmic\n",
    "\n",
    "# First describe column rg-estimation\n",
    "df_rg_aug_essentials['rg-estimation'].describe()\n",
    "\n",
    "# We could loop on tracks, within tracks loop on measures and for each measure take the instrument that has the highest rg-estimation\n",
    "# But that would be very long?\n",
    "# Maybe we can just say if rg-estimation < thr then the instrument is rythmic\n",
    "\n",
    "thr = 0.5 # General decision threshold in the paper that is used to determine if an instrument is rythmic or not\n",
    "# When rg-estimation is near 1, the instrument is lead, when it is near 0 the instrument is rythmic.\n",
    "df_rg_aug_essentials.loc[:, 'is_rythmic'] = df_rg_aug_essentials['rg-estimation'] < thr\n",
    "\n",
    "display(df_rg_aug_essentials['is_rythmic'].value_counts())\n"
   ]
  },
  {
   "cell_type": "code",
   "execution_count": null,
   "metadata": {},
   "outputs": [
    {
     "name": "stderr",
     "output_type": "stream",
     "text": [
      "  2%|▏         | 24/1315 [00:00<00:17, 73.58it/s]"
     ]
    },
    {
     "name": "stdout",
     "output_type": "stream",
     "text": [
      "3 Doors Down - Be Like That 91 2.5824175824175826\n"
     ]
    },
    {
     "name": "stderr",
     "output_type": "stream",
     "text": [
      "  4%|▍         | 56/1315 [00:00<00:18, 69.88it/s]"
     ]
    },
    {
     "name": "stdout",
     "output_type": "stream",
     "text": [
      "311 - Homebrew (2) 73 4.780821917808219\n",
      "311 - Homebrew (2) 73 1.9452054794520548\n",
      "311 - Homebrew (2) 73 1.8356164383561644\n"
     ]
    },
    {
     "name": "stderr",
     "output_type": "stream",
     "text": [
      "  6%|▌         | 78/1315 [00:01<00:17, 69.95it/s]"
     ]
    },
    {
     "name": "stdout",
     "output_type": "stream",
     "text": [
      "4 Non Blondes - What's Up 69 1.826086956521739\n",
      "4 Non Blondes - What's Up 69 2.0\n",
      "5th Prokurator - Turkish Delight 65 1.9692307692307693\n",
      "5th Prokurator - Turkish Delight 65 1.9384615384615385\n"
     ]
    },
    {
     "name": "stderr",
     "output_type": "stream",
     "text": [
      "  8%|▊         | 99/1315 [00:01<00:17, 68.86it/s]"
     ]
    },
    {
     "name": "stdout",
     "output_type": "stream",
     "text": [
      "69ers (The) - From The Heart Of My Bottom 49 1.5918367346938775\n",
      "69ers (The) - From The Heart Of My Bottom 49 1.7551020408163265\n",
      "69ers (The) - Go Aways From Me 74 1.837837837837838\n",
      "69ers (The) - Go Aways From Me 74 1.6756756756756757\n",
      "69ers (The) - Go Aways From Me 74 1.8108108108108107\n",
      "69ers (The) - Pass The Past 96 1.2708333333333333\n",
      "69ers (The) - Pass The Past 96 1.8958333333333333\n",
      "69ers (The) - Solo bass 41 1.5121951219512195\n",
      "69ers (The) - Way to nirvana 48 1.9166666666666667\n",
      "69ers (The) - Way to nirvana 48 1.6666666666666667\n"
     ]
    },
    {
     "name": "stderr",
     "output_type": "stream",
     "text": [
      " 16%|█▌        | 204/1315 [00:03<00:17, 64.80it/s]"
     ]
    },
    {
     "name": "stdout",
     "output_type": "stream",
     "text": [
      "ACDC - Hard As A Rock (2) 125 1.744\n"
     ]
    },
    {
     "name": "stderr",
     "output_type": "stream",
     "text": [
      " 19%|█▊        | 246/1315 [00:03<00:17, 62.15it/s]"
     ]
    },
    {
     "name": "stdout",
     "output_type": "stream",
     "text": [
      "ACDC - You Shook Me All Night Long 110 2.881818181818182\n",
      "ACDC - You Shook Me All Night Long 110 1.8545454545454545\n",
      "ACDC - You Shook Me All Night Long 110 2.0\n",
      "Accept - Fast As A Shark (2) 121 1.7024793388429753\n",
      "Accept - Fast As A Shark (2) 121 1.9504132231404958\n",
      "Accept - Fast As A Shark (2) 121 1.6528925619834711\n"
     ]
    },
    {
     "name": "stderr",
     "output_type": "stream",
     "text": [
      " 20%|█▉        | 260/1315 [00:03<00:17, 60.61it/s]"
     ]
    },
    {
     "name": "stdout",
     "output_type": "stream",
     "text": [
      "Accept - Head Over Heels 101 1.8415841584158417\n",
      "Accept - Head Over Heels 101 2.9702970297029703\n",
      "Accept - Head Over Heels 101 1.5742574257425743\n",
      "Accept - I Don't Wanna Be Like You (2) 124 1.9193548387096775\n",
      "Accept - I Don't Wanna Be Like You (2) 124 1.9193548387096775\n",
      "Accept - I Don't Wanna Be Like You (2) 124 2.0\n",
      "Accept - Love Child 146 1.8767123287671232\n",
      "Accept - Love Child 146 2.0\n",
      "Accept - Love Child 146 1.6027397260273972\n"
     ]
    },
    {
     "name": "stderr",
     "output_type": "stream",
     "text": [
      " 21%|██        | 273/1315 [00:04<00:17, 58.60it/s]"
     ]
    },
    {
     "name": "stdout",
     "output_type": "stream",
     "text": [
      "Accept - Shake Your Heads 92 1.7826086956521738\n",
      "Accept - Shake Your Heads 92 1.826086956521739\n",
      "Accept - Shake Your Heads 92 1.4565217391304348\n",
      "Accept - Shake Your Heads 92 1.4565217391304348\n"
     ]
    },
    {
     "name": "stderr",
     "output_type": "stream",
     "text": [
      " 27%|██▋       | 361/1315 [00:05<00:17, 55.69it/s]"
     ]
    },
    {
     "name": "stdout",
     "output_type": "stream",
     "text": [
      "Aerosmith - Mama Kin 169 1.2544378698224852\n",
      "Aerosmith - Mama Kin 169 1.7396449704142012\n",
      "Aerosmith - Mama Kin 169 1.5384615384615385\n"
     ]
    },
    {
     "name": "stderr",
     "output_type": "stream",
     "text": [
      " 30%|███       | 397/1315 [00:06<00:16, 55.11it/s]"
     ]
    },
    {
     "name": "stdout",
     "output_type": "stream",
     "text": [
      "AFI - Total Immortal 70 1.6571428571428573\n",
      "AFI - Total Immortal 70 3.4285714285714284\n",
      "AFI - Total Immortal 70 1.7714285714285714\n"
     ]
    },
    {
     "name": "stderr",
     "output_type": "stream",
     "text": [
      " 31%|███       | 409/1315 [00:06<00:16, 55.43it/s]"
     ]
    },
    {
     "name": "stdout",
     "output_type": "stream",
     "text": [
      "Agnostic Front - Crucified 55 1.6727272727272726\n",
      "Agnostic Front - Crucified 55 2.0\n"
     ]
    },
    {
     "name": "stderr",
     "output_type": "stream",
     "text": [
      " 37%|███▋      | 481/1315 [00:07<00:15, 54.11it/s]"
     ]
    },
    {
     "name": "stdout",
     "output_type": "stream",
     "text": [
      "Alice In Chains - Bleed The Freak 83 1.9759036144578312\n",
      "Alice In Chains - Frogs 60 1.9333333333333333\n",
      "Alice In Chains - Godsmack 46 2.108695652173913\n",
      "Alice In Chains - Got Me Wrong (Unplugged) 56 1.8928571428571428\n",
      "Alice In Chains - Got Me Wrong (Unplugged) 56 2.0\n",
      "Alice In Chains - Got Me Wrong 88 1.0454545454545454\n"
     ]
    },
    {
     "name": "stderr",
     "output_type": "stream",
     "text": [
      " 37%|███▋      | 493/1315 [00:08<00:15, 52.57it/s]"
     ]
    },
    {
     "name": "stdout",
     "output_type": "stream",
     "text": [
      "Alice In Chains - I Stay Away 84 1.4285714285714286\n",
      "Alice In Chains - I Stay Away 84 1.3333333333333333\n",
      "Alice In Chains - I Stay Away 84 1.2857142857142858\n",
      "Alice In Chains - Junkhead 57 1.087719298245614\n",
      "Alice In Chains - Junkhead 57 1.9649122807017543\n",
      "Alice In Chains - No Excuses 123 1.934959349593496\n",
      "Alice In Chains - No Excuses 123 1.934959349593496\n"
     ]
    },
    {
     "name": "stderr",
     "output_type": "stream",
     "text": [
      " 39%|███▉      | 517/1315 [00:08<00:15, 52.56it/s]"
     ]
    },
    {
     "name": "stdout",
     "output_type": "stream",
     "text": [
      "Alice In Chains - Would_ 87 1.9080459770114941\n",
      "Alien Ant Farm - Smooth Criminal (2) 83 2.0\n",
      "Alien Ant Farm - Smooth Criminal (2) 83 1.7108433734939759\n"
     ]
    },
    {
     "name": "stderr",
     "output_type": "stream",
     "text": [
      " 41%|████      | 535/1315 [00:08<00:14, 53.57it/s]"
     ]
    },
    {
     "name": "stdout",
     "output_type": "stream",
     "text": [
      "Aliustaoglu, Cuneyt - Hard 54 1.7222222222222223\n",
      "Aliustaoglu, Cuneyt - Hard 54 1.3333333333333333\n",
      "Aliustaoglu, Cuneyt - Hard 54 1.6851851851851851\n"
     ]
    },
    {
     "name": "stderr",
     "output_type": "stream",
     "text": [
      " 43%|████▎     | 571/1315 [00:09<00:14, 50.27it/s]"
     ]
    },
    {
     "name": "stdout",
     "output_type": "stream",
     "text": [
      "Allegro - The Betrayer's Song 113 1.9115044247787611\n",
      "Allegro - The Betrayer's Song 113 1.2035398230088497\n"
     ]
    },
    {
     "name": "stderr",
     "output_type": "stream",
     "text": [
      " 61%|██████    | 799/1315 [00:14<00:10, 46.93it/s]"
     ]
    },
    {
     "name": "stdout",
     "output_type": "stream",
     "text": [
      "Angra - Carry On (4) 203 1.2807881773399015\n"
     ]
    },
    {
     "name": "stderr",
     "output_type": "stream",
     "text": [
      " 66%|██████▌   | 869/1315 [00:15<00:10, 44.04it/s]"
     ]
    },
    {
     "name": "stdout",
     "output_type": "stream",
     "text": [
      "Annihilator - Mending 32 2.0\n"
     ]
    },
    {
     "name": "stderr",
     "output_type": "stream",
     "text": [
      " 71%|███████   | 929/1315 [00:17<00:08, 44.05it/s]"
     ]
    },
    {
     "name": "stdout",
     "output_type": "stream",
     "text": [
      "Anthrax - Metal Thrashing Mad 129 2.0\n",
      "Anthrax - Metal Thrashing Mad 129 4.0\n",
      "Anthrax - Metal Thrashing Mad 129 2.0\n",
      "Anthrax - Taking The Music Back 109 1.963302752293578\n",
      "Anthrax - Taking The Music Back 109 1.4128440366972477\n"
     ]
    },
    {
     "name": "stderr",
     "output_type": "stream",
     "text": [
      " 73%|███████▎  | 959/1315 [00:17<00:08, 44.23it/s]"
     ]
    },
    {
     "name": "stdout",
     "output_type": "stream",
     "text": [
      "Apocalypse Orchestra Band be Maxime Peltier (The) - Hot like 61 1.9672131147540983\n",
      "Apocalypse Orchestra Band be Maxime Peltier (The) - Hot like 61 1.2459016393442623\n",
      "Apocalypse Orchestra Band be Maxime Peltier (The) - Hot like 61 1.9672131147540983\n",
      "Apulanta - Hiekka 102 4.392156862745098\n",
      "Apulanta - Hiekka 102 1.7352941176470589\n",
      "Apulanta - Hiekka 102 1.8137254901960784\n"
     ]
    },
    {
     "name": "stderr",
     "output_type": "stream",
     "text": [
      " 75%|███████▌  | 989/1315 [00:18<00:07, 43.73it/s]"
     ]
    },
    {
     "name": "stdout",
     "output_type": "stream",
     "text": [
      "Arch Enemy - Bridge Of Destiny 237 3.0126582278481013\n",
      "Arch Enemy - Bridge Of Destiny 237 1.0253164556962024\n"
     ]
    },
    {
     "name": "stderr",
     "output_type": "stream",
     "text": [
      " 76%|███████▋  | 1004/1315 [00:18<00:07, 43.43it/s]"
     ]
    },
    {
     "name": "stdout",
     "output_type": "stream",
     "text": [
      "Arch Enemy - The Immortal (2) 112 1.1607142857142858\n",
      "Arch Enemy - The Immortal (2) 112 1.8928571428571428\n",
      "Arch Enemy - The Immortal (2) 112 2.0\n",
      "Archive - Again 25 1.92\n"
     ]
    },
    {
     "name": "stderr",
     "output_type": "stream",
     "text": [
      " 85%|████████▍ | 1114/1315 [00:21<00:04, 40.75it/s]"
     ]
    },
    {
     "name": "stdout",
     "output_type": "stream",
     "text": [
      "Ash - Burn Baby Burn 131 1.9389312977099236\n",
      "Ash - Burn Baby Burn 131 1.6030534351145038\n"
     ]
    },
    {
     "name": "stderr",
     "output_type": "stream",
     "text": [
      " 87%|████████▋ | 1139/1315 [00:22<00:04, 40.70it/s]"
     ]
    },
    {
     "name": "stdout",
     "output_type": "stream",
     "text": [
      "At The Gates - Forever Blind (2) 180 1.0888888888888888\n",
      "At The Gates - Forever Blind (2) 180 1.9333333333333333\n"
     ]
    },
    {
     "name": "stderr",
     "output_type": "stream",
     "text": [
      " 87%|████████▋ | 1149/1315 [00:22<00:04, 39.85it/s]"
     ]
    },
    {
     "name": "stdout",
     "output_type": "stream",
     "text": [
      "At The Gates - World Of Lies 113 1.5044247787610618\n",
      "At The Gates - World Of Lies 113 2.0\n"
     ]
    },
    {
     "name": "stderr",
     "output_type": "stream",
     "text": [
      " 89%|████████▉ | 1176/1315 [00:23<00:03, 40.31it/s]"
     ]
    },
    {
     "name": "stdout",
     "output_type": "stream",
     "text": [
      "Atkins, Chet - Caravan 66 1.2424242424242424\n"
     ]
    },
    {
     "name": "stderr",
     "output_type": "stream",
     "text": [
      " 91%|█████████ | 1193/1315 [00:23<00:03, 39.25it/s]"
     ]
    },
    {
     "name": "stdout",
     "output_type": "stream",
     "text": [
      "attaque 77 - Amigo 137 2.562043795620438\n"
     ]
    },
    {
     "name": "stderr",
     "output_type": "stream",
     "text": [
      " 92%|█████████▏| 1211/1315 [00:24<00:02, 39.50it/s]"
     ]
    },
    {
     "name": "stdout",
     "output_type": "stream",
     "text": [
      "Audioslave - Set It Off 66 1.4545454545454546\n",
      "Audioslave - Set It Off 66 1.878787878787879\n"
     ]
    },
    {
     "name": "stderr",
     "output_type": "stream",
     "text": [
      " 95%|█████████▍| 1244/1315 [00:24<00:01, 38.36it/s]"
     ]
    },
    {
     "name": "stdout",
     "output_type": "stream",
     "text": [
      "Axel Rudi Pell, Axel - Fool Fool 170 1.8705882352941177\n",
      "Axel Rudi Pell, Axel - Fool Fool 170 1.5176470588235293\n",
      "Axel Rudi Pell, Axel - Fool Fool 170 1.5176470588235293\n"
     ]
    },
    {
     "name": "stderr",
     "output_type": "stream",
     "text": [
      " 97%|█████████▋| 1276/1315 [00:25<00:01, 37.97it/s]"
     ]
    },
    {
     "name": "stdout",
     "output_type": "stream",
     "text": [
      "Lavigne, Avril - Things I'll Never Say 91 1.4725274725274726\n"
     ]
    },
    {
     "name": "stderr",
     "output_type": "stream",
     "text": [
      "100%|██████████| 1315/1315 [00:26<00:00, 49.17it/s]\n"
     ]
    }
   ],
   "source": [
    "# However, now that I need this I need to build a dataframe with for each track and each instrument its proportion of rythmic measures\n",
    "\n",
    "total_df_rythmic = pd.DataFrame()\n",
    "i=0\n",
    "# For each track we add the DadaGP_name column\n",
    "for track in tqdm(df_rg_aug_essentials['File_Name'].unique()):\n",
    "    i=i+1\n",
    "    df_rythmic = df_rg_aug_essentials[df_rg_aug_essentials['File_Name'] == track].copy() # We copy to avoid SettingWithCopyWarning\n",
    "    max_nb_measures = df_rythmic['Mesure'].max()\n",
    "    \n",
    "    for instrument in df_rythmic['DadaGP_name'].unique():\n",
    "        df_inst = df_rythmic[df_rythmic['DadaGP_name'] == instrument]\n",
    "        \n",
    "        # Proportion of rythmic measures for the instrument (in the whole track and not only in the measures where the instrument plays)\n",
    "        prop_rythmic = df_inst['is_rythmic'].sum() / max_nb_measures\n",
    "        if prop_rythmic > 1:\n",
    "            print(track, max_nb_measures, prop_rythmic)\n",
    "        df_rythmic.loc[df_rythmic['DadaGP_name'] == instrument, 'prop_rythmic'] = prop_rythmic  \n",
    "    \n",
    "    # The instrument with the highest proportion of rythmic measures is the rythmic instrument\n",
    "    if df_rythmic['prop_rythmic'].isnull().all(): # No rythmic instrument at all in the track\n",
    "        df_rythmic.loc[:, 'is_track_rythmic'] = False\n",
    "    \n",
    "    else:\n",
    "        # Add column is_track_rythmic set to True at the rows where prop_rythmic is its max\n",
    "        df_rythmic.loc[:, 'is_track_rythmic'] = df_rythmic['prop_rythmic'] == df_rythmic['prop_rythmic'].max()\n",
    "          \n",
    "    # Concatenate the dataframe\n",
    "    total_df_rythmic = pd.concat([total_df_rythmic, df_rythmic])\n",
    "    \n",
    "    # if i==100: # Test on 100 tracks\n",
    "    #     break\n",
    "\n",
    "# Around an hour of computation according to tqdm..."
   ]
  },
  {
   "cell_type": "code",
   "execution_count": null,
   "metadata": {},
   "outputs": [
    {
     "data": {
      "text/html": [
       "<div>\n",
       "<style scoped>\n",
       "    .dataframe tbody tr th:only-of-type {\n",
       "        vertical-align: middle;\n",
       "    }\n",
       "\n",
       "    .dataframe tbody tr th {\n",
       "        vertical-align: top;\n",
       "    }\n",
       "\n",
       "    .dataframe thead th {\n",
       "        text-align: right;\n",
       "    }\n",
       "</style>\n",
       "<table border=\"1\" class=\"dataframe\">\n",
       "  <thead>\n",
       "    <tr style=\"text-align: right;\">\n",
       "      <th></th>\n",
       "      <th>Fichier</th>\n",
       "      <th>Track_Name</th>\n",
       "      <th>Partie</th>\n",
       "      <th>Instrument</th>\n",
       "      <th>Mesure</th>\n",
       "      <th>DadaGP_name</th>\n",
       "      <th>File_Name</th>\n",
       "      <th>rg-estimation</th>\n",
       "      <th>is_rythmic</th>\n",
       "      <th>prop_rythmic</th>\n",
       "      <th>is_track_rythmic</th>\n",
       "    </tr>\n",
       "  </thead>\n",
       "  <tbody>\n",
       "    <tr>\n",
       "      <th>255</th>\n",
       "      <td>../data/DadaGP8-gpif/12 Stones - Crash-Bass.gpif</td>\n",
       "      <td>Crash\\n12 Stones</td>\n",
       "      <td>Bass</td>\n",
       "      <td>bass</td>\n",
       "      <td>9</td>\n",
       "      <td>bass</td>\n",
       "      <td>12 Stones - Crash</td>\n",
       "      <td>9.537677e-01</td>\n",
       "      <td>False</td>\n",
       "      <td>0.674074</td>\n",
       "      <td>False</td>\n",
       "    </tr>\n",
       "    <tr>\n",
       "      <th>634</th>\n",
       "      <td>../data/DadaGP8-gpif/1349 - Deathmarch-Guitar....</td>\n",
       "      <td>Deathmarch\\n1349</td>\n",
       "      <td>Guitar</td>\n",
       "      <td>distorted</td>\n",
       "      <td>1</td>\n",
       "      <td>distorted0</td>\n",
       "      <td>1349 - Deathmarch</td>\n",
       "      <td>1.147128e-06</td>\n",
       "      <td>True</td>\n",
       "      <td>1.000000</td>\n",
       "      <td>True</td>\n",
       "    </tr>\n",
       "    <tr>\n",
       "      <th>742</th>\n",
       "      <td>../data/DadaGP8-gpif/1349 - Riders Of The Apoc...</td>\n",
       "      <td>Riders Of The Apocalypse\\n1349</td>\n",
       "      <td>Bass</td>\n",
       "      <td>bass</td>\n",
       "      <td>3</td>\n",
       "      <td>bass</td>\n",
       "      <td>1349 - Riders Of The Apocalypse</td>\n",
       "      <td>1.927962e-11</td>\n",
       "      <td>True</td>\n",
       "      <td>0.973822</td>\n",
       "      <td>False</td>\n",
       "    </tr>\n",
       "    <tr>\n",
       "      <th>1115</th>\n",
       "      <td>../data/DadaGP8-gpif/1974 AD, Pahilo Junema - ...</td>\n",
       "      <td>Jungi Nishan\\nSajal  Pradhan</td>\n",
       "      <td>Bass</td>\n",
       "      <td>bass</td>\n",
       "      <td>2</td>\n",
       "      <td>bass</td>\n",
       "      <td>1974 AD, Pahilo Junema - Jungi Nishan</td>\n",
       "      <td>2.114279e-08</td>\n",
       "      <td>True</td>\n",
       "      <td>0.936170</td>\n",
       "      <td>False</td>\n",
       "    </tr>\n",
       "    <tr>\n",
       "      <th>1389</th>\n",
       "      <td>../data/DadaGP8-gpif/1974 ad, pahilo junema - ...</td>\n",
       "      <td>Manta Mero Nepali\\n1974 AD</td>\n",
       "      <td>Track 1</td>\n",
       "      <td>distorted</td>\n",
       "      <td>1</td>\n",
       "      <td>distorted0</td>\n",
       "      <td>1974 ad, pahilo junema - Manta Mero Nepali</td>\n",
       "      <td>2.982967e-11</td>\n",
       "      <td>True</td>\n",
       "      <td>0.750000</td>\n",
       "      <td>True</td>\n",
       "    </tr>\n",
       "    <tr>\n",
       "      <th>1205</th>\n",
       "      <td>../data/DadaGP8-gpif/1974 AD, Pahilo Junema - ...</td>\n",
       "      <td>Sisire jhari\\nAdrian pradhan</td>\n",
       "      <td>Track 1</td>\n",
       "      <td>clean</td>\n",
       "      <td>1</td>\n",
       "      <td>clean0</td>\n",
       "      <td>1974 AD, Pahilo Junema - Sisire Jhai</td>\n",
       "      <td>2.234772e-07</td>\n",
       "      <td>True</td>\n",
       "      <td>1.000000</td>\n",
       "      <td>True</td>\n",
       "    </tr>\n",
       "    <tr>\n",
       "      <th>1445</th>\n",
       "      <td>../data/DadaGP8-gpif/1Kempfi1 - 4 Seasons-  4....</td>\n",
       "      <td>4 Seasons\\nKempfi</td>\n",
       "      <td>4</td>\n",
       "      <td>clean</td>\n",
       "      <td>1</td>\n",
       "      <td>clean0</td>\n",
       "      <td>1Kempfi1 - 4 Seasons</td>\n",
       "      <td>3.403829e-07</td>\n",
       "      <td>True</td>\n",
       "      <td>1.000000</td>\n",
       "      <td>True</td>\n",
       "    </tr>\n",
       "    <tr>\n",
       "      <th>1761</th>\n",
       "      <td>../data/DadaGP8-gpif/1Kempfi1 - Short &amp; Stupid...</td>\n",
       "      <td>Short &amp; Stupid\\nMCA</td>\n",
       "      <td>Spur 1</td>\n",
       "      <td>distorted</td>\n",
       "      <td>1</td>\n",
       "      <td>distorted0</td>\n",
       "      <td>1Kempfi1 - Short &amp; Stupid</td>\n",
       "      <td>5.604797e-05</td>\n",
       "      <td>True</td>\n",
       "      <td>0.840000</td>\n",
       "      <td>False</td>\n",
       "    </tr>\n",
       "    <tr>\n",
       "      <th>1895</th>\n",
       "      <td>../data/DadaGP8-gpif/1Kempfi1 - Sunrise-Spur 1...</td>\n",
       "      <td>Sunrise\\nKempfi</td>\n",
       "      <td>Spur 1</td>\n",
       "      <td>bass</td>\n",
       "      <td>1</td>\n",
       "      <td>bass</td>\n",
       "      <td>1Kempfi1 - Sunrise</td>\n",
       "      <td>1.273318e-12</td>\n",
       "      <td>True</td>\n",
       "      <td>0.989796</td>\n",
       "      <td>True</td>\n",
       "    </tr>\n",
       "    <tr>\n",
       "      <th>2112</th>\n",
       "      <td>../data/DadaGP8-gpif/1st Man For Her - A Peach...</td>\n",
       "      <td>A Peach Fantasy\\nBernard Gervais</td>\n",
       "      <td>Bass</td>\n",
       "      <td>bass</td>\n",
       "      <td>19</td>\n",
       "      <td>bass</td>\n",
       "      <td>1st Man For Her - A Peach Fantasy</td>\n",
       "      <td>4.222868e-05</td>\n",
       "      <td>True</td>\n",
       "      <td>0.527273</td>\n",
       "      <td>True</td>\n",
       "    </tr>\n",
       "    <tr>\n",
       "      <th>2141</th>\n",
       "      <td>../data/DadaGP8-gpif/2 Unlimited - No One (2)-...</td>\n",
       "      <td>No One\\n2 Unlimited</td>\n",
       "      <td>Bass</td>\n",
       "      <td>bass</td>\n",
       "      <td>4</td>\n",
       "      <td>bass</td>\n",
       "      <td>2 Unlimited - No One (2)</td>\n",
       "      <td>7.622117e-06</td>\n",
       "      <td>True</td>\n",
       "      <td>0.904348</td>\n",
       "      <td>True</td>\n",
       "    </tr>\n",
       "    <tr>\n",
       "      <th>2245</th>\n",
       "      <td>../data/DadaGP8-gpif/2 Unlimited - The Real Th...</td>\n",
       "      <td>The Real Thing\\n2 Unlimited</td>\n",
       "      <td>Fing.Bass</td>\n",
       "      <td>bass</td>\n",
       "      <td>11</td>\n",
       "      <td>bass</td>\n",
       "      <td>2 Unlimited - The Real Thing</td>\n",
       "      <td>7.552069e-08</td>\n",
       "      <td>True</td>\n",
       "      <td>0.857143</td>\n",
       "      <td>True</td>\n",
       "    </tr>\n",
       "    <tr>\n",
       "      <th>2359</th>\n",
       "      <td>../data/DadaGP8-gpif/2 Unlimited - Twilight Zo...</td>\n",
       "      <td>Twilight Zone\\n2 Unlimited</td>\n",
       "      <td>Track 4</td>\n",
       "      <td>bass</td>\n",
       "      <td>7</td>\n",
       "      <td>bass</td>\n",
       "      <td>2 Unlimited - Twilight Zone (2)</td>\n",
       "      <td>1.941037e-06</td>\n",
       "      <td>True</td>\n",
       "      <td>0.648649</td>\n",
       "      <td>True</td>\n",
       "    </tr>\n",
       "    <tr>\n",
       "      <th>3164</th>\n",
       "      <td>../data/DadaGP8-gpif/28 Days - Rip It Up-Basse...</td>\n",
       "      <td>Rip It Up\\n28 Days</td>\n",
       "      <td>Basse</td>\n",
       "      <td>bass</td>\n",
       "      <td>3</td>\n",
       "      <td>bass</td>\n",
       "      <td>28 Days - Rip It Up</td>\n",
       "      <td>1.704483e-03</td>\n",
       "      <td>True</td>\n",
       "      <td>0.792453</td>\n",
       "      <td>False</td>\n",
       "    </tr>\n",
       "    <tr>\n",
       "      <th>3257</th>\n",
       "      <td>../data/DadaGP8-gpif/2pac - Do For Love (2)-Ba...</td>\n",
       "      <td>Do For Love\\n2pac</td>\n",
       "      <td>Bass line</td>\n",
       "      <td>bass</td>\n",
       "      <td>1</td>\n",
       "      <td>bass</td>\n",
       "      <td>2pac - Do For Love (2)</td>\n",
       "      <td>4.742127e-12</td>\n",
       "      <td>True</td>\n",
       "      <td>1.000000</td>\n",
       "      <td>True</td>\n",
       "    </tr>\n",
       "    <tr>\n",
       "      <th>3261</th>\n",
       "      <td>../data/DadaGP8-gpif/3 Doors Down - Be Like Th...</td>\n",
       "      <td>be like that\\n3 door down</td>\n",
       "      <td>Track 1</td>\n",
       "      <td>clean</td>\n",
       "      <td>1</td>\n",
       "      <td>clean0</td>\n",
       "      <td>3 Doors Down - Be Like That (2)</td>\n",
       "      <td>1.223677e-07</td>\n",
       "      <td>True</td>\n",
       "      <td>0.983607</td>\n",
       "      <td>True</td>\n",
       "    </tr>\n",
       "    <tr>\n",
       "      <th>3351</th>\n",
       "      <td>../data/DadaGP8-gpif/3 Doors Down - Be Like Th...</td>\n",
       "      <td>Be Like that\\n3 Doors Down</td>\n",
       "      <td>Acoustic guitar</td>\n",
       "      <td>clean</td>\n",
       "      <td>1</td>\n",
       "      <td>not_filled_yet</td>\n",
       "      <td>3 Doors Down - Be Like That</td>\n",
       "      <td>3.069821e-05</td>\n",
       "      <td>True</td>\n",
       "      <td>2.582418</td>\n",
       "      <td>True</td>\n",
       "    </tr>\n",
       "    <tr>\n",
       "      <th>3586</th>\n",
       "      <td>../data/DadaGP8-gpif/3 Doors Down - By My Side...</td>\n",
       "      <td>By My Side\\n3 Doors Down</td>\n",
       "      <td>Bass</td>\n",
       "      <td>bass</td>\n",
       "      <td>1</td>\n",
       "      <td>bass</td>\n",
       "      <td>3 Doors Down - By My Side (2)</td>\n",
       "      <td>1.861413e-08</td>\n",
       "      <td>True</td>\n",
       "      <td>1.000000</td>\n",
       "      <td>True</td>\n",
       "    </tr>\n",
       "    <tr>\n",
       "      <th>4241</th>\n",
       "      <td>../data/DadaGP8-gpif/3 Doors Down - Changes-Tr...</td>\n",
       "      <td>Changes\\n3 Doors Down</td>\n",
       "      <td>Track 1</td>\n",
       "      <td>clean</td>\n",
       "      <td>1</td>\n",
       "      <td>clean0</td>\n",
       "      <td>3 Doors Down - Changes</td>\n",
       "      <td>8.628407e-04</td>\n",
       "      <td>True</td>\n",
       "      <td>0.833333</td>\n",
       "      <td>True</td>\n",
       "    </tr>\n",
       "    <tr>\n",
       "      <th>4265</th>\n",
       "      <td>../data/DadaGP8-gpif/3 Doors Down - Here Witho...</td>\n",
       "      <td>Here without you\\n3 doors down</td>\n",
       "      <td>Piste 1</td>\n",
       "      <td>clean</td>\n",
       "      <td>1</td>\n",
       "      <td>clean0</td>\n",
       "      <td>3 Doors Down - Here Without You (2)</td>\n",
       "      <td>2.749101e-05</td>\n",
       "      <td>True</td>\n",
       "      <td>0.970588</td>\n",
       "      <td>True</td>\n",
       "    </tr>\n",
       "  </tbody>\n",
       "</table>\n",
       "</div>"
      ],
      "text/plain": [
       "                                                Fichier  \\\n",
       "255    ../data/DadaGP8-gpif/12 Stones - Crash-Bass.gpif   \n",
       "634   ../data/DadaGP8-gpif/1349 - Deathmarch-Guitar....   \n",
       "742   ../data/DadaGP8-gpif/1349 - Riders Of The Apoc...   \n",
       "1115  ../data/DadaGP8-gpif/1974 AD, Pahilo Junema - ...   \n",
       "1389  ../data/DadaGP8-gpif/1974 ad, pahilo junema - ...   \n",
       "1205  ../data/DadaGP8-gpif/1974 AD, Pahilo Junema - ...   \n",
       "1445  ../data/DadaGP8-gpif/1Kempfi1 - 4 Seasons-  4....   \n",
       "1761  ../data/DadaGP8-gpif/1Kempfi1 - Short & Stupid...   \n",
       "1895  ../data/DadaGP8-gpif/1Kempfi1 - Sunrise-Spur 1...   \n",
       "2112  ../data/DadaGP8-gpif/1st Man For Her - A Peach...   \n",
       "2141  ../data/DadaGP8-gpif/2 Unlimited - No One (2)-...   \n",
       "2245  ../data/DadaGP8-gpif/2 Unlimited - The Real Th...   \n",
       "2359  ../data/DadaGP8-gpif/2 Unlimited - Twilight Zo...   \n",
       "3164  ../data/DadaGP8-gpif/28 Days - Rip It Up-Basse...   \n",
       "3257  ../data/DadaGP8-gpif/2pac - Do For Love (2)-Ba...   \n",
       "3261  ../data/DadaGP8-gpif/3 Doors Down - Be Like Th...   \n",
       "3351  ../data/DadaGP8-gpif/3 Doors Down - Be Like Th...   \n",
       "3586  ../data/DadaGP8-gpif/3 Doors Down - By My Side...   \n",
       "4241  ../data/DadaGP8-gpif/3 Doors Down - Changes-Tr...   \n",
       "4265  ../data/DadaGP8-gpif/3 Doors Down - Here Witho...   \n",
       "\n",
       "                            Track_Name           Partie Instrument  Mesure  \\\n",
       "255                   Crash\\n12 Stones             Bass       bass       9   \n",
       "634                   Deathmarch\\n1349           Guitar  distorted       1   \n",
       "742     Riders Of The Apocalypse\\n1349             Bass       bass       3   \n",
       "1115      Jungi Nishan\\nSajal  Pradhan             Bass       bass       2   \n",
       "1389        Manta Mero Nepali\\n1974 AD          Track 1  distorted       1   \n",
       "1205      Sisire jhari\\nAdrian pradhan          Track 1      clean       1   \n",
       "1445                 4 Seasons\\nKempfi                4      clean       1   \n",
       "1761               Short & Stupid\\nMCA           Spur 1  distorted       1   \n",
       "1895                   Sunrise\\nKempfi           Spur 1       bass       1   \n",
       "2112  A Peach Fantasy\\nBernard Gervais             Bass       bass      19   \n",
       "2141               No One\\n2 Unlimited             Bass       bass       4   \n",
       "2245       The Real Thing\\n2 Unlimited        Fing.Bass       bass      11   \n",
       "2359        Twilight Zone\\n2 Unlimited          Track 4       bass       7   \n",
       "3164                Rip It Up\\n28 Days            Basse       bass       3   \n",
       "3257                 Do For Love\\n2pac        Bass line       bass       1   \n",
       "3261         be like that\\n3 door down          Track 1      clean       1   \n",
       "3351        Be Like that\\n3 Doors Down  Acoustic guitar      clean       1   \n",
       "3586          By My Side\\n3 Doors Down             Bass       bass       1   \n",
       "4241             Changes\\n3 Doors Down          Track 1      clean       1   \n",
       "4265    Here without you\\n3 doors down          Piste 1      clean       1   \n",
       "\n",
       "         DadaGP_name                                   File_Name  \\\n",
       "255             bass                           12 Stones - Crash   \n",
       "634       distorted0                           1349 - Deathmarch   \n",
       "742             bass             1349 - Riders Of The Apocalypse   \n",
       "1115            bass       1974 AD, Pahilo Junema - Jungi Nishan   \n",
       "1389      distorted0  1974 ad, pahilo junema - Manta Mero Nepali   \n",
       "1205          clean0        1974 AD, Pahilo Junema - Sisire Jhai   \n",
       "1445          clean0                        1Kempfi1 - 4 Seasons   \n",
       "1761      distorted0                   1Kempfi1 - Short & Stupid   \n",
       "1895            bass                          1Kempfi1 - Sunrise   \n",
       "2112            bass           1st Man For Her - A Peach Fantasy   \n",
       "2141            bass                    2 Unlimited - No One (2)   \n",
       "2245            bass                2 Unlimited - The Real Thing   \n",
       "2359            bass             2 Unlimited - Twilight Zone (2)   \n",
       "3164            bass                         28 Days - Rip It Up   \n",
       "3257            bass                      2pac - Do For Love (2)   \n",
       "3261          clean0             3 Doors Down - Be Like That (2)   \n",
       "3351  not_filled_yet                 3 Doors Down - Be Like That   \n",
       "3586            bass               3 Doors Down - By My Side (2)   \n",
       "4241          clean0                      3 Doors Down - Changes   \n",
       "4265          clean0         3 Doors Down - Here Without You (2)   \n",
       "\n",
       "      rg-estimation  is_rythmic  prop_rythmic  is_track_rythmic  \n",
       "255    9.537677e-01       False      0.674074             False  \n",
       "634    1.147128e-06        True      1.000000              True  \n",
       "742    1.927962e-11        True      0.973822             False  \n",
       "1115   2.114279e-08        True      0.936170             False  \n",
       "1389   2.982967e-11        True      0.750000              True  \n",
       "1205   2.234772e-07        True      1.000000              True  \n",
       "1445   3.403829e-07        True      1.000000              True  \n",
       "1761   5.604797e-05        True      0.840000             False  \n",
       "1895   1.273318e-12        True      0.989796              True  \n",
       "2112   4.222868e-05        True      0.527273              True  \n",
       "2141   7.622117e-06        True      0.904348              True  \n",
       "2245   7.552069e-08        True      0.857143              True  \n",
       "2359   1.941037e-06        True      0.648649              True  \n",
       "3164   1.704483e-03        True      0.792453             False  \n",
       "3257   4.742127e-12        True      1.000000              True  \n",
       "3261   1.223677e-07        True      0.983607              True  \n",
       "3351   3.069821e-05        True      2.582418              True  \n",
       "3586   1.861413e-08        True      1.000000              True  \n",
       "4241   8.628407e-04        True      0.833333              True  \n",
       "4265   2.749101e-05        True      0.970588              True  "
      ]
     },
     "metadata": {},
     "output_type": "display_data"
    }
   ],
   "source": [
    "total_df_rythmic_track_level = total_df_rythmic.copy()\n",
    "total_df_rythmic_track_level = total_df_rythmic_track_level.drop_duplicates(subset=['Track_Name', 'File_Name'])\n",
    "total_df_rythmic_track_level.head(20)"
   ]
  }
 ],
 "metadata": {
  "kernelspec": {
   "display_name": ".venv",
   "language": "python",
   "name": "python3"
  },
  "language_info": {
   "name": "python",
   "version": "3.10.13"
  }
 },
 "nbformat": 4,
 "nbformat_minor": 2
}
