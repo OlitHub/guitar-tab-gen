{
 "cells": [
  {
   "cell_type": "code",
   "execution_count": 1,
   "metadata": {},
   "outputs": [],
   "source": [
    "from aux_fun import get_tokens_inst_iter_folders\n",
    "import pandas as pd\n",
    "import numpy as np\n",
    "from tqdm import tqdm\n",
    "import os\n",
    "import guitarpro as pygp\n",
    "import glob\n",
    "\n",
    "path_to_general_read_folder = \"..\\..\\data\\DadaGP\\DadaGP-v1.1\"\n",
    "path_to_general_write_folder = \"..\\..\\data\\BGTG\\BGTG-v0.1\""
   ]
  },
  {
   "cell_type": "markdown",
   "metadata": {},
   "source": [
    "#### Assigning the rythmic guitar to each track"
   ]
  },
  {
   "cell_type": "code",
   "execution_count": 7,
   "metadata": {},
   "outputs": [
    {
     "data": {
      "text/html": [
       "<div>\n",
       "<style scoped>\n",
       "    .dataframe tbody tr th:only-of-type {\n",
       "        vertical-align: middle;\n",
       "    }\n",
       "\n",
       "    .dataframe tbody tr th {\n",
       "        vertical-align: top;\n",
       "    }\n",
       "\n",
       "    .dataframe thead th {\n",
       "        text-align: right;\n",
       "    }\n",
       "</style>\n",
       "<table border=\"1\" class=\"dataframe\">\n",
       "  <thead>\n",
       "    <tr style=\"text-align: right;\">\n",
       "      <th></th>\n",
       "      <th>Fichier</th>\n",
       "      <th>Dadagp_Path</th>\n",
       "      <th>File_Name</th>\n",
       "      <th>Track_Name</th>\n",
       "      <th>Partie</th>\n",
       "      <th>Instrument</th>\n",
       "      <th>Mesure</th>\n",
       "      <th>rg-estimation</th>\n",
       "      <th>Dadagp_Name</th>\n",
       "    </tr>\n",
       "  </thead>\n",
       "  <tbody>\n",
       "    <tr>\n",
       "      <th>0</th>\n",
       "      <td>../data/DadaGP8-gpif/ - Isolated.gpif</td>\n",
       "      <td>..\\..\\data\\DadaGP\\DadaGP-v1.1\\U\\Unknown\\ - Iso...</td>\n",
       "      <td>- Isolated</td>\n",
       "      <td>Isolated\\nDr. Sin</td>\n",
       "      <td>E. Ardanuy</td>\n",
       "      <td>distorted</td>\n",
       "      <td>1</td>\n",
       "      <td>2.570728e-07</td>\n",
       "      <td>distorted0</td>\n",
       "    </tr>\n",
       "    <tr>\n",
       "      <th>1</th>\n",
       "      <td>../data/DadaGP8-gpif/ - Isolated.gpif</td>\n",
       "      <td>..\\..\\data\\DadaGP\\DadaGP-v1.1\\U\\Unknown\\ - Iso...</td>\n",
       "      <td>- Isolated</td>\n",
       "      <td>Isolated\\nDr. Sin</td>\n",
       "      <td>E. Ardanuy</td>\n",
       "      <td>distorted</td>\n",
       "      <td>2</td>\n",
       "      <td>4.580104e-07</td>\n",
       "      <td>distorted0</td>\n",
       "    </tr>\n",
       "    <tr>\n",
       "      <th>2</th>\n",
       "      <td>../data/DadaGP8-gpif/ - Isolated.gpif</td>\n",
       "      <td>..\\..\\data\\DadaGP\\DadaGP-v1.1\\U\\Unknown\\ - Iso...</td>\n",
       "      <td>- Isolated</td>\n",
       "      <td>Isolated\\nDr. Sin</td>\n",
       "      <td>E. Ardanuy</td>\n",
       "      <td>distorted</td>\n",
       "      <td>3</td>\n",
       "      <td>6.601997e-06</td>\n",
       "      <td>distorted0</td>\n",
       "    </tr>\n",
       "    <tr>\n",
       "      <th>3</th>\n",
       "      <td>../data/DadaGP8-gpif/ - Isolated.gpif</td>\n",
       "      <td>..\\..\\data\\DadaGP\\DadaGP-v1.1\\U\\Unknown\\ - Iso...</td>\n",
       "      <td>- Isolated</td>\n",
       "      <td>Isolated\\nDr. Sin</td>\n",
       "      <td>E. Ardanuy</td>\n",
       "      <td>distorted</td>\n",
       "      <td>4</td>\n",
       "      <td>4.111985e-04</td>\n",
       "      <td>distorted0</td>\n",
       "    </tr>\n",
       "    <tr>\n",
       "      <th>4</th>\n",
       "      <td>../data/DadaGP8-gpif/ - Isolated.gpif</td>\n",
       "      <td>..\\..\\data\\DadaGP\\DadaGP-v1.1\\U\\Unknown\\ - Iso...</td>\n",
       "      <td>- Isolated</td>\n",
       "      <td>Isolated\\nDr. Sin</td>\n",
       "      <td>E. Ardanuy</td>\n",
       "      <td>distorted</td>\n",
       "      <td>5</td>\n",
       "      <td>4.352387e-05</td>\n",
       "      <td>distorted0</td>\n",
       "    </tr>\n",
       "  </tbody>\n",
       "</table>\n",
       "</div>"
      ],
      "text/plain": [
       "                                 Fichier  \\\n",
       "0  ../data/DadaGP8-gpif/ - Isolated.gpif   \n",
       "1  ../data/DadaGP8-gpif/ - Isolated.gpif   \n",
       "2  ../data/DadaGP8-gpif/ - Isolated.gpif   \n",
       "3  ../data/DadaGP8-gpif/ - Isolated.gpif   \n",
       "4  ../data/DadaGP8-gpif/ - Isolated.gpif   \n",
       "\n",
       "                                         Dadagp_Path    File_Name  \\\n",
       "0  ..\\..\\data\\DadaGP\\DadaGP-v1.1\\U\\Unknown\\ - Iso...   - Isolated   \n",
       "1  ..\\..\\data\\DadaGP\\DadaGP-v1.1\\U\\Unknown\\ - Iso...   - Isolated   \n",
       "2  ..\\..\\data\\DadaGP\\DadaGP-v1.1\\U\\Unknown\\ - Iso...   - Isolated   \n",
       "3  ..\\..\\data\\DadaGP\\DadaGP-v1.1\\U\\Unknown\\ - Iso...   - Isolated   \n",
       "4  ..\\..\\data\\DadaGP\\DadaGP-v1.1\\U\\Unknown\\ - Iso...   - Isolated   \n",
       "\n",
       "          Track_Name      Partie Instrument  Mesure  rg-estimation Dadagp_Name  \n",
       "0  Isolated\\nDr. Sin  E. Ardanuy  distorted       1   2.570728e-07  distorted0  \n",
       "1  Isolated\\nDr. Sin  E. Ardanuy  distorted       2   4.580104e-07  distorted0  \n",
       "2  Isolated\\nDr. Sin  E. Ardanuy  distorted       3   6.601997e-06  distorted0  \n",
       "3  Isolated\\nDr. Sin  E. Ardanuy  distorted       4   4.111985e-04  distorted0  \n",
       "4  Isolated\\nDr. Sin  E. Ardanuy  distorted       5   4.352387e-05  distorted0  "
      ]
     },
     "metadata": {},
     "output_type": "display_data"
    },
    {
     "data": {
      "text/plain": [
       "((4026353, 9), 23123)"
      ]
     },
     "execution_count": 7,
     "metadata": {},
     "output_type": "execute_result"
    }
   ],
   "source": [
    "# # now let's take a look at the instruments that generally are rythmic\n",
    "\n",
    "\n",
    "df_rg_2 = pd.read_csv('../../data/df_rg_2.csv')\n",
    "display(df_rg_2.head())\n",
    "df_rg_2.shape, df_rg_2['File_Name'].nunique()"
   ]
  },
  {
   "cell_type": "code",
   "execution_count": 8,
   "metadata": {},
   "outputs": [
    {
     "data": {
      "text/plain": [
       "is_rythmic\n",
       "True     3379154\n",
       "False     647199\n",
       "Name: count, dtype: int64"
      ]
     },
     "metadata": {},
     "output_type": "display_data"
    }
   ],
   "source": [
    "# Now let's loop again on the tracks and take a look at what instruments are generally rythmic\n",
    "\n",
    "# First describe column rg-estimation\n",
    "df_rg_2['rg-estimation'].describe()\n",
    "\n",
    "# We could loop on tracks, within tracks loop on measures and for each measure take the instrument that has the highest rg-estimation\n",
    "# But that would be very long?\n",
    "# Maybe we can just say if rg-estimation < thr then the instrument is rythmic\n",
    "\n",
    "thr = 0.5 # General decision threshold in the paper that is used to determine if an instrument is rythmic or not\n",
    "# When rg-estimation is near 1, the instrument is lead, when it is near 0 the instrument is rythmic.\n",
    "df_rg_2.loc[:, 'is_rythmic'] = df_rg_2['rg-estimation'] < thr\n",
    "\n",
    "display(df_rg_2['is_rythmic'].value_counts())\n"
   ]
  },
  {
   "cell_type": "code",
   "execution_count": 10,
   "metadata": {},
   "outputs": [
    {
     "name": "stderr",
     "output_type": "stream",
     "text": [
      "100%|██████████| 23123/23123 [04:01<00:00, 95.85it/s] \n"
     ]
    }
   ],
   "source": [
    "# Initialize an empty list to store dataframes for faster concatenation later\n",
    "dataframes = []\n",
    "\n",
    "# Group by 'File_Name' once instead of iterating through unique track names\n",
    "for track, df_track in tqdm(df_rg_2.groupby('File_Name')):\n",
    "    max_nb_measures = df_track['Mesure'].max()\n",
    "\n",
    "    # Precompute proportions for all instruments\n",
    "    df_instrument_props = (\n",
    "        df_track.groupby('Dadagp_Name')['is_rythmic'].sum() / max_nb_measures\n",
    "    ).reset_index(name='prop_rythmic')\n",
    "\n",
    "    # Set bass instruments' proportions to 0 directly\n",
    "    df_instrument_props.loc[\n",
    "        df_instrument_props['Dadagp_Name'] == 'bass', 'prop_rythmic'\n",
    "    ] = 0\n",
    "\n",
    "    # Merge proportions back to the track dataframe\n",
    "    df_track = df_track.merge(\n",
    "        df_instrument_props, on='Dadagp_Name', how='left'\n",
    "    )\n",
    "\n",
    "    # Identify the maximum prop_rythmic and set the is_track_rythmic column\n",
    "    if df_track['prop_rythmic'].notnull().any():\n",
    "        max_prop = df_track['prop_rythmic'].max()\n",
    "        df_track['is_track_rythmic'] = df_track['prop_rythmic'] == max_prop\n",
    "    else:\n",
    "        df_track['is_track_rythmic'] = False\n",
    "\n",
    "    # Append the processed track dataframe to the list\n",
    "    dataframes.append(df_track)\n",
    "\n",
    "# Concatenate all track dataframes at once for better performance\n",
    "total_df = pd.concat(dataframes, ignore_index=True)\n"
   ]
  },
  {
   "cell_type": "code",
   "execution_count": 9,
   "metadata": {},
   "outputs": [
    {
     "name": "stderr",
     "output_type": "stream",
     "text": [
      "  0%|          | 54/23123 [00:30<3:38:23,  1.76it/s]\n"
     ]
    },
    {
     "ename": "KeyboardInterrupt",
     "evalue": "",
     "output_type": "error",
     "traceback": [
      "\u001b[1;31m---------------------------------------------------------------------------\u001b[0m",
      "\u001b[1;31mKeyboardInterrupt\u001b[0m                         Traceback (most recent call last)",
      "Cell \u001b[1;32mIn[9], line 8\u001b[0m\n\u001b[0;32m      6\u001b[0m \u001b[38;5;28;01mfor\u001b[39;00m track \u001b[38;5;129;01min\u001b[39;00m tqdm(df_rg_2[\u001b[38;5;124m'\u001b[39m\u001b[38;5;124mFile_Name\u001b[39m\u001b[38;5;124m'\u001b[39m]\u001b[38;5;241m.\u001b[39munique()):\n\u001b[0;32m      7\u001b[0m     i\u001b[38;5;241m=\u001b[39mi\u001b[38;5;241m+\u001b[39m\u001b[38;5;241m1\u001b[39m\n\u001b[1;32m----> 8\u001b[0m     df_track \u001b[38;5;241m=\u001b[39m df_rg_2[\u001b[43mdf_rg_2\u001b[49m\u001b[43m[\u001b[49m\u001b[38;5;124;43m'\u001b[39;49m\u001b[38;5;124;43mFile_Name\u001b[39;49m\u001b[38;5;124;43m'\u001b[39;49m\u001b[43m]\u001b[49m\u001b[43m \u001b[49m\u001b[38;5;241;43m==\u001b[39;49m\u001b[43m \u001b[49m\u001b[43mtrack\u001b[49m]\u001b[38;5;241m.\u001b[39mcopy() \u001b[38;5;66;03m# We copy to avoid SettingWithCopyWarning\u001b[39;00m\n\u001b[0;32m      9\u001b[0m     max_nb_measures \u001b[38;5;241m=\u001b[39m df_track[\u001b[38;5;124m'\u001b[39m\u001b[38;5;124mMesure\u001b[39m\u001b[38;5;124m'\u001b[39m]\u001b[38;5;241m.\u001b[39mmax()\n\u001b[0;32m     10\u001b[0m     \u001b[38;5;66;03m# Maybe we should use a count instead of a max because the instrument may start at measure 10 and end at measure 20 for instance \u001b[39;00m\n\u001b[0;32m     11\u001b[0m     \u001b[38;5;66;03m# But using the max is great to avoid the case where an instrument plays only a few measures and get a high prop.\u001b[39;00m\n",
      "File \u001b[1;32md:\\GitHub\\guitar-tab-gen\\.venv\\lib\\site-packages\\pandas\\core\\ops\\common.py:76\u001b[0m, in \u001b[0;36m_unpack_zerodim_and_defer.<locals>.new_method\u001b[1;34m(self, other)\u001b[0m\n\u001b[0;32m     72\u001b[0m             \u001b[38;5;28;01mreturn\u001b[39;00m \u001b[38;5;28mNotImplemented\u001b[39m\n\u001b[0;32m     74\u001b[0m other \u001b[38;5;241m=\u001b[39m item_from_zerodim(other)\n\u001b[1;32m---> 76\u001b[0m \u001b[38;5;28;01mreturn\u001b[39;00m \u001b[43mmethod\u001b[49m\u001b[43m(\u001b[49m\u001b[38;5;28;43mself\u001b[39;49m\u001b[43m,\u001b[49m\u001b[43m \u001b[49m\u001b[43mother\u001b[49m\u001b[43m)\u001b[49m\n",
      "File \u001b[1;32md:\\GitHub\\guitar-tab-gen\\.venv\\lib\\site-packages\\pandas\\core\\arraylike.py:40\u001b[0m, in \u001b[0;36mOpsMixin.__eq__\u001b[1;34m(self, other)\u001b[0m\n\u001b[0;32m     38\u001b[0m \u001b[38;5;129m@unpack_zerodim_and_defer\u001b[39m(\u001b[38;5;124m\"\u001b[39m\u001b[38;5;124m__eq__\u001b[39m\u001b[38;5;124m\"\u001b[39m)\n\u001b[0;32m     39\u001b[0m \u001b[38;5;28;01mdef\u001b[39;00m \u001b[38;5;21m__eq__\u001b[39m(\u001b[38;5;28mself\u001b[39m, other):\n\u001b[1;32m---> 40\u001b[0m     \u001b[38;5;28;01mreturn\u001b[39;00m \u001b[38;5;28;43mself\u001b[39;49m\u001b[38;5;241;43m.\u001b[39;49m\u001b[43m_cmp_method\u001b[49m\u001b[43m(\u001b[49m\u001b[43mother\u001b[49m\u001b[43m,\u001b[49m\u001b[43m \u001b[49m\u001b[43moperator\u001b[49m\u001b[38;5;241;43m.\u001b[39;49m\u001b[43meq\u001b[49m\u001b[43m)\u001b[49m\n",
      "File \u001b[1;32md:\\GitHub\\guitar-tab-gen\\.venv\\lib\\site-packages\\pandas\\core\\series.py:6119\u001b[0m, in \u001b[0;36mSeries._cmp_method\u001b[1;34m(self, other, op)\u001b[0m\n\u001b[0;32m   6116\u001b[0m lvalues \u001b[38;5;241m=\u001b[39m \u001b[38;5;28mself\u001b[39m\u001b[38;5;241m.\u001b[39m_values\n\u001b[0;32m   6117\u001b[0m rvalues \u001b[38;5;241m=\u001b[39m extract_array(other, extract_numpy\u001b[38;5;241m=\u001b[39m\u001b[38;5;28;01mTrue\u001b[39;00m, extract_range\u001b[38;5;241m=\u001b[39m\u001b[38;5;28;01mTrue\u001b[39;00m)\n\u001b[1;32m-> 6119\u001b[0m res_values \u001b[38;5;241m=\u001b[39m \u001b[43mops\u001b[49m\u001b[38;5;241;43m.\u001b[39;49m\u001b[43mcomparison_op\u001b[49m\u001b[43m(\u001b[49m\u001b[43mlvalues\u001b[49m\u001b[43m,\u001b[49m\u001b[43m \u001b[49m\u001b[43mrvalues\u001b[49m\u001b[43m,\u001b[49m\u001b[43m \u001b[49m\u001b[43mop\u001b[49m\u001b[43m)\u001b[49m\n\u001b[0;32m   6121\u001b[0m \u001b[38;5;28;01mreturn\u001b[39;00m \u001b[38;5;28mself\u001b[39m\u001b[38;5;241m.\u001b[39m_construct_result(res_values, name\u001b[38;5;241m=\u001b[39mres_name)\n",
      "File \u001b[1;32md:\\GitHub\\guitar-tab-gen\\.venv\\lib\\site-packages\\pandas\\core\\ops\\array_ops.py:344\u001b[0m, in \u001b[0;36mcomparison_op\u001b[1;34m(left, right, op)\u001b[0m\n\u001b[0;32m    341\u001b[0m     \u001b[38;5;28;01mreturn\u001b[39;00m invalid_comparison(lvalues, rvalues, op)\n\u001b[0;32m    343\u001b[0m \u001b[38;5;28;01melif\u001b[39;00m lvalues\u001b[38;5;241m.\u001b[39mdtype \u001b[38;5;241m==\u001b[39m \u001b[38;5;28mobject\u001b[39m \u001b[38;5;129;01mor\u001b[39;00m \u001b[38;5;28misinstance\u001b[39m(rvalues, \u001b[38;5;28mstr\u001b[39m):\n\u001b[1;32m--> 344\u001b[0m     res_values \u001b[38;5;241m=\u001b[39m \u001b[43mcomp_method_OBJECT_ARRAY\u001b[49m\u001b[43m(\u001b[49m\u001b[43mop\u001b[49m\u001b[43m,\u001b[49m\u001b[43m \u001b[49m\u001b[43mlvalues\u001b[49m\u001b[43m,\u001b[49m\u001b[43m \u001b[49m\u001b[43mrvalues\u001b[49m\u001b[43m)\u001b[49m\n\u001b[0;32m    346\u001b[0m \u001b[38;5;28;01melse\u001b[39;00m:\n\u001b[0;32m    347\u001b[0m     res_values \u001b[38;5;241m=\u001b[39m _na_arithmetic_op(lvalues, rvalues, op, is_cmp\u001b[38;5;241m=\u001b[39m\u001b[38;5;28;01mTrue\u001b[39;00m)\n",
      "File \u001b[1;32md:\\GitHub\\guitar-tab-gen\\.venv\\lib\\site-packages\\pandas\\core\\ops\\array_ops.py:130\u001b[0m, in \u001b[0;36mcomp_method_OBJECT_ARRAY\u001b[1;34m(op, x, y)\u001b[0m\n\u001b[0;32m    128\u001b[0m \u001b[38;5;28;01melse\u001b[39;00m:\n\u001b[0;32m    129\u001b[0m     result \u001b[38;5;241m=\u001b[39m libops\u001b[38;5;241m.\u001b[39mscalar_compare(x\u001b[38;5;241m.\u001b[39mravel(), y, op)\n\u001b[1;32m--> 130\u001b[0m \u001b[38;5;28;01mreturn\u001b[39;00m \u001b[43mresult\u001b[49m\u001b[38;5;241;43m.\u001b[39;49m\u001b[43mreshape\u001b[49m\u001b[43m(\u001b[49m\u001b[43mx\u001b[49m\u001b[38;5;241;43m.\u001b[39;49m\u001b[43mshape\u001b[49m\u001b[43m)\u001b[49m\n",
      "\u001b[1;31mKeyboardInterrupt\u001b[0m: "
     ]
    }
   ],
   "source": [
    "# TERRIBLE UNOPTIMIZED VERSIOn\n",
    "\n",
    "# # However, now that I need this I need to build a dataframe with for each track and each instrument its proportion of rythmic measures\n",
    "\n",
    "# total_df = pd.DataFrame()\n",
    "# i=0\n",
    "# # For each track we add the DadaGP_name column\n",
    "# for track in tqdm(df_rg_2['File_Name'].unique()):\n",
    "#     i=i+1\n",
    "#     df_track = df_rg_2[df_rg_2['File_Name'] == track].copy() # We copy to avoid SettingWithCopyWarning\n",
    "#     max_nb_measures = df_track['Mesure'].max()\n",
    "#     # Maybe we should use a count instead of a max because the instrument may start at measure 10 and end at measure 20 for instance \n",
    "#     # But using the max is great to avoid the case where an instrument plays only a few measures and get a high prop.\n",
    "    \n",
    "#     for instrument in df_track['Dadagp_Name'].unique():\n",
    "#         df_inst = df_track[df_track['Dadagp_Name'] == instrument]\n",
    "        \n",
    "#         if instrument == 'bass':\n",
    "#             df_track.loc[df_track['Dadagp_Name'] == instrument, 'prop_rythmic'] = 0\n",
    "#             continue\n",
    "#             # Bass should not be rythmic as we don't want to extract the bass to condition the generation of the bass...\n",
    "    \n",
    "        \n",
    "#         # Proportion of rythmic measures for the instrument (in the whole track and not only in the measures where the instrument plays)\n",
    "#         prop_rythmic = df_inst['is_rythmic'].sum() / max_nb_measures\n",
    "#         if prop_rythmic > 1:\n",
    "#             print(track, max_nb_measures, prop_rythmic)\n",
    "#         df_track.loc[df_track['Dadagp_Name'] == instrument, 'prop_rythmic'] = prop_rythmic\n",
    "        \n",
    "#     # The instrument with the highest proportion of rythmic measures is the rythmic instrument\n",
    "#     if df_track['prop_rythmic'].isnull().all(): # No rythmic instrument at all in the track\n",
    "#         df_track.loc[:, 'is_track_rythmic'] = False\n",
    "    \n",
    "#     else:\n",
    "#         # Add column is_track_rythmic set to True at the rows where prop_rythmic is its max\n",
    "#         df_track.loc[:, 'is_track_rythmic'] = df_track['prop_rythmic'] == df_track['prop_rythmic'].max()\n",
    "          \n",
    "#     # Concatenate the dataframe\n",
    "#     total_df = pd.concat([total_df, df_track])\n",
    "    \n",
    "#     # if i==100: # Test on 100 tracks\n",
    "#     #     break\n",
    "\n",
    "# # Around 2 hours of computation according to tqdm..."
   ]
  },
  {
   "cell_type": "code",
   "execution_count": 11,
   "metadata": {},
   "outputs": [],
   "source": [
    "total_df.to_csv('../../data/df_rg_3.csv', index=False)"
   ]
  }
 ],
 "metadata": {
  "kernelspec": {
   "display_name": ".venv",
   "language": "python",
   "name": "python3"
  },
  "language_info": {
   "codemirror_mode": {
    "name": "ipython",
    "version": 3
   },
   "file_extension": ".py",
   "mimetype": "text/x-python",
   "name": "python",
   "nbconvert_exporter": "python",
   "pygments_lexer": "ipython3",
   "version": "3.10.13"
  }
 },
 "nbformat": 4,
 "nbformat_minor": 2
}
