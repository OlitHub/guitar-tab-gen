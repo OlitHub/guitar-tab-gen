{
 "cells": [
  {
   "cell_type": "code",
   "execution_count": 2,
   "metadata": {},
   "outputs": [],
   "source": [
    "import pathlib\n",
    "import pandas as pd\n",
    "import numpy as np\n",
    "from tqdm import tqdm\n",
    "import os\n",
    "import guitarpro as pygp\n",
    "import glob\n",
    "\n",
    "path_to_general_read_folder = \"..\\..\\data\\DadaGP\\DadaGP-v1.1\"\n",
    "path_to_general_write_folder = \"..\\..\\data\\BGTG\\BGTG-v0.1\""
   ]
  },
  {
   "cell_type": "code",
   "execution_count": 2,
   "metadata": {},
   "outputs": [],
   "source": [
    "df_rg = pd.read_csv('../../data/df_rg_1.csv')"
   ]
  },
  {
   "cell_type": "code",
   "execution_count": 3,
   "metadata": {},
   "outputs": [
    {
     "data": {
      "text/html": [
       "<div>\n",
       "<style scoped>\n",
       "    .dataframe tbody tr th:only-of-type {\n",
       "        vertical-align: middle;\n",
       "    }\n",
       "\n",
       "    .dataframe tbody tr th {\n",
       "        vertical-align: top;\n",
       "    }\n",
       "\n",
       "    .dataframe thead th {\n",
       "        text-align: right;\n",
       "    }\n",
       "</style>\n",
       "<table border=\"1\" class=\"dataframe\">\n",
       "  <thead>\n",
       "    <tr style=\"text-align: right;\">\n",
       "      <th></th>\n",
       "      <th>Fichier</th>\n",
       "      <th>Dadagp_Path</th>\n",
       "      <th>File_Name</th>\n",
       "      <th>Track_Name</th>\n",
       "      <th>Partie</th>\n",
       "      <th>Instrument</th>\n",
       "      <th>Mesure</th>\n",
       "      <th>rg-estimation</th>\n",
       "    </tr>\n",
       "  </thead>\n",
       "  <tbody>\n",
       "    <tr>\n",
       "      <th>0</th>\n",
       "      <td>../data/DadaGP8-gpif/ - Isolated.gpif</td>\n",
       "      <td>..\\..\\data\\DadaGP\\DadaGP-v1.1\\U\\Unknown\\ - Iso...</td>\n",
       "      <td>- Isolated</td>\n",
       "      <td>Isolated\\nDr. Sin</td>\n",
       "      <td>E. Ardanuy</td>\n",
       "      <td>distorted</td>\n",
       "      <td>1</td>\n",
       "      <td>2.570728e-07</td>\n",
       "    </tr>\n",
       "    <tr>\n",
       "      <th>1</th>\n",
       "      <td>../data/DadaGP8-gpif/ - Isolated.gpif</td>\n",
       "      <td>..\\..\\data\\DadaGP\\DadaGP-v1.1\\U\\Unknown\\ - Iso...</td>\n",
       "      <td>- Isolated</td>\n",
       "      <td>Isolated\\nDr. Sin</td>\n",
       "      <td>E. Ardanuy</td>\n",
       "      <td>distorted</td>\n",
       "      <td>2</td>\n",
       "      <td>4.580104e-07</td>\n",
       "    </tr>\n",
       "    <tr>\n",
       "      <th>2</th>\n",
       "      <td>../data/DadaGP8-gpif/ - Isolated.gpif</td>\n",
       "      <td>..\\..\\data\\DadaGP\\DadaGP-v1.1\\U\\Unknown\\ - Iso...</td>\n",
       "      <td>- Isolated</td>\n",
       "      <td>Isolated\\nDr. Sin</td>\n",
       "      <td>E. Ardanuy</td>\n",
       "      <td>distorted</td>\n",
       "      <td>3</td>\n",
       "      <td>6.601997e-06</td>\n",
       "    </tr>\n",
       "    <tr>\n",
       "      <th>3</th>\n",
       "      <td>../data/DadaGP8-gpif/ - Isolated.gpif</td>\n",
       "      <td>..\\..\\data\\DadaGP\\DadaGP-v1.1\\U\\Unknown\\ - Iso...</td>\n",
       "      <td>- Isolated</td>\n",
       "      <td>Isolated\\nDr. Sin</td>\n",
       "      <td>E. Ardanuy</td>\n",
       "      <td>distorted</td>\n",
       "      <td>4</td>\n",
       "      <td>4.111985e-04</td>\n",
       "    </tr>\n",
       "    <tr>\n",
       "      <th>4</th>\n",
       "      <td>../data/DadaGP8-gpif/ - Isolated.gpif</td>\n",
       "      <td>..\\..\\data\\DadaGP\\DadaGP-v1.1\\U\\Unknown\\ - Iso...</td>\n",
       "      <td>- Isolated</td>\n",
       "      <td>Isolated\\nDr. Sin</td>\n",
       "      <td>E. Ardanuy</td>\n",
       "      <td>distorted</td>\n",
       "      <td>5</td>\n",
       "      <td>4.352387e-05</td>\n",
       "    </tr>\n",
       "  </tbody>\n",
       "</table>\n",
       "</div>"
      ],
      "text/plain": [
       "                                 Fichier  \\\n",
       "0  ../data/DadaGP8-gpif/ - Isolated.gpif   \n",
       "1  ../data/DadaGP8-gpif/ - Isolated.gpif   \n",
       "2  ../data/DadaGP8-gpif/ - Isolated.gpif   \n",
       "3  ../data/DadaGP8-gpif/ - Isolated.gpif   \n",
       "4  ../data/DadaGP8-gpif/ - Isolated.gpif   \n",
       "\n",
       "                                         Dadagp_Path    File_Name  \\\n",
       "0  ..\\..\\data\\DadaGP\\DadaGP-v1.1\\U\\Unknown\\ - Iso...   - Isolated   \n",
       "1  ..\\..\\data\\DadaGP\\DadaGP-v1.1\\U\\Unknown\\ - Iso...   - Isolated   \n",
       "2  ..\\..\\data\\DadaGP\\DadaGP-v1.1\\U\\Unknown\\ - Iso...   - Isolated   \n",
       "3  ..\\..\\data\\DadaGP\\DadaGP-v1.1\\U\\Unknown\\ - Iso...   - Isolated   \n",
       "4  ..\\..\\data\\DadaGP\\DadaGP-v1.1\\U\\Unknown\\ - Iso...   - Isolated   \n",
       "\n",
       "          Track_Name      Partie Instrument  Mesure  rg-estimation  \n",
       "0  Isolated\\nDr. Sin  E. Ardanuy  distorted       1   2.570728e-07  \n",
       "1  Isolated\\nDr. Sin  E. Ardanuy  distorted       2   4.580104e-07  \n",
       "2  Isolated\\nDr. Sin  E. Ardanuy  distorted       3   6.601997e-06  \n",
       "3  Isolated\\nDr. Sin  E. Ardanuy  distorted       4   4.111985e-04  \n",
       "4  Isolated\\nDr. Sin  E. Ardanuy  distorted       5   4.352387e-05  "
      ]
     },
     "execution_count": 3,
     "metadata": {},
     "output_type": "execute_result"
    }
   ],
   "source": [
    "df_rg.head()"
   ]
  },
  {
   "cell_type": "code",
   "execution_count": 4,
   "metadata": {},
   "outputs": [
    {
     "data": {
      "text/plain": [
       "(56419, 4164431, 24051)"
      ]
     },
     "execution_count": 4,
     "metadata": {},
     "output_type": "execute_result"
    }
   ],
   "source": [
    "df_inst_part = df_rg.drop_duplicates(subset=['Dadagp_Path', 'Partie'])\n",
    "# This removes the measures, conserving only one row for each part of each song\n",
    "df_inst_part.shape[0], df_rg.shape[0], df_inst_part['Dadagp_Path'].nunique()\n",
    "# Total number of parts, total number of rows, total number of songs"
   ]
  },
  {
   "cell_type": "code",
   "execution_count": 7,
   "metadata": {},
   "outputs": [
    {
     "name": "stderr",
     "output_type": "stream",
     "text": [
      "  0%|          | 0/24051 [00:00<?, ?it/s]"
     ]
    },
    {
     "name": "stderr",
     "output_type": "stream",
     "text": [
      "100%|██████████| 24051/24051 [3:14:57<00:00,  2.06it/s]      \n"
     ]
    },
    {
     "data": {
      "text/plain": [
       "((56419, 8), (55793, 9))"
      ]
     },
     "execution_count": 7,
     "metadata": {},
     "output_type": "execute_result"
    }
   ],
   "source": [
    "total_df_track = pd.DataFrame()\n",
    "\n",
    "# For each track we add the DadaGP_name column\n",
    "for path in tqdm(df_inst_part['Dadagp_Path'].unique()):\n",
    "    df_track = df_inst_part[df_inst_part['Dadagp_Path'] == path].copy() # We copy to avoid SettingWithCopyWarning\n",
    "    \n",
    "    dada_gp_path = df_track['Dadagp_Path'].values[0]\n",
    "    \n",
    "    try:\n",
    "        gp_file = pygp.parse(dada_gp_path)\n",
    "        \n",
    "    except:\n",
    "        continue\n",
    "    \n",
    "    # No need for this anymore normally as the path are retrieved from DadaGP\n",
    "    # try:\n",
    "    #     gp_file = pygp.parse(dada_gp_path)\n",
    "    # except:\n",
    "    #     print('Error with file:', dada_gp_path)\n",
    "    #     continue\n",
    "        \n",
    "    inst_list = []\n",
    "    for part in gp_file.tracks:\n",
    "        part_name = part.name\n",
    "        \n",
    "        if part_name not in df_track['Partie'].values:\n",
    "            continue\n",
    "        inst_name = df_track[df_track['Partie'] == part_name]['Instrument'].values[0]\n",
    "        inst_list.append((part_name, inst_name))\n",
    "    \n",
    "    # Create the Dadagp_Name column filled with 'not_filled_yet'\n",
    "    df_track['Dadagp_Name'] = 'not_filled_yet'\n",
    "    nb_clean = 0\n",
    "    nb_distorted = 0\n",
    "    for part_inst_tuple in inst_list:\n",
    "        part = part_inst_tuple[0]\n",
    "        inst = part_inst_tuple[1]\n",
    "        if inst == 'clean':\n",
    "            df_track.loc[df_track['Partie'] == part, 'Dadagp_Name'] = 'clean' + str(nb_clean)\n",
    "            nb_clean += 1\n",
    "        elif inst == 'distorted':\n",
    "            df_track.loc[df_track['Partie'] == part, 'Dadagp_Name'] = 'distorted' + str(nb_distorted)\n",
    "            nb_distorted += 1\n",
    "        else:\n",
    "            df_track.loc[df_track['Partie'] == part, 'Dadagp_Name'] = inst\n",
    "            \n",
    "    # if 'not_filled_yet' in df_track['Dadagp_Name'].unique():\n",
    "        # display(df_track)\n",
    "        # print(inst_list)\n",
    "    \n",
    "    # Join df_track with df_inst_part\n",
    "    total_df_track = pd.concat([total_df_track, df_track])\n",
    "\n",
    "df_inst_part.shape, total_df_track.shape\n",
    "\n",
    "# The method is correct but takes a long time to compute (1h)"
   ]
  },
  {
   "cell_type": "code",
   "execution_count": 33,
   "metadata": {},
   "outputs": [
    {
     "data": {
      "text/plain": [
       "array(['..\\\\..\\\\data\\\\DadaGP\\\\DadaGP-v1.1\\\\3\\\\311\\\\311 - Homebrew (2).gp3.pygp.gp5',\n",
       "       '..\\\\..\\\\data\\\\DadaGP\\\\DadaGP-v1.1\\\\3\\\\311\\\\311 - Homebrew (2).gp3.pygp.gp5',\n",
       "       '..\\\\..\\\\data\\\\DadaGP\\\\DadaGP-v1.1\\\\3\\\\311\\\\311 - Homebrew (2).gp3.pygp.gp5',\n",
       "       '..\\\\..\\\\data\\\\DadaGP\\\\DadaGP-v1.1\\\\3\\\\311\\\\311 - Homebrew (2).gp3.pygp.gp5',\n",
       "       '..\\\\..\\\\data\\\\DadaGP\\\\DadaGP-v1.1\\\\3\\\\311\\\\311 - Homebrew (2).gp3.pygp.gp5'],\n",
       "      dtype=object)"
      ]
     },
     "execution_count": 33,
     "metadata": {},
     "output_type": "execute_result"
    }
   ],
   "source": [
    "path_to_test = total_df_track[total_df_track['File_Name'] == '311 - Homebrew (2)']['Dadagp_Path'].values\n",
    "\n",
    "path_to_test"
   ]
  },
  {
   "cell_type": "code",
   "execution_count": null,
   "metadata": {},
   "outputs": [],
   "source": [
    "\n",
    "gp_file = pygp.parse(path_to_test)\n",
    "    \n",
    "inst_list = []\n",
    "for part in gp_file.tracks:\n",
    "    part_name = part.name\n",
    "    print(part_name)\n",
    "    \n",
    "    if part_name not in df_track['Partie'].values:\n",
    "        continue\n",
    "    inst_name = df_track[df_track['Partie'] == part_name]['Instrument'].values[0]\n",
    "    inst_list.append((part_name, inst_name))"
   ]
  },
  {
   "cell_type": "code",
   "execution_count": 8,
   "metadata": {},
   "outputs": [
    {
     "data": {
      "text/plain": [
       "array(['distorted0', 'clean0', 'clean1', 'bass', 'distorted1',\n",
       "       'distorted2', 'not_filled_yet', 'distorted3', 'clean2', 'clean3',\n",
       "       'clean4', 'distorted4', 'distorted5'], dtype=object)"
      ]
     },
     "execution_count": 8,
     "metadata": {},
     "output_type": "execute_result"
    }
   ],
   "source": [
    "total_df_track['Dadagp_Name'].unique()\n",
    "# We should not have any 'not filled yet'\n",
    "# 'not filled yet' values correspond to songs where we lost the path.\n",
    "# This happens when several songs have the same name but different extensions (gp3, gp4, gp5)\n",
    "# In notebook 1 we simply take the first path of the name, which is not always the right one.\n",
    "# As the computation necessary to assign the correct path is extremely long, we will simply drop these songs."
   ]
  },
  {
   "cell_type": "code",
   "execution_count": 9,
   "metadata": {},
   "outputs": [],
   "source": [
    "# Merge the DadaGP_name back\n",
    "\n",
    "new_df_rg = df_rg.merge(total_df_track[['Dadagp_Path', 'Partie', 'Dadagp_Name']],\n",
    "                                      on=['Dadagp_Path', 'Partie'], how='left')\n",
    "\n"
   ]
  },
  {
   "cell_type": "code",
   "execution_count": null,
   "metadata": {},
   "outputs": [],
   "source": [
    "list_test = ['distorted0', 'clean0', 'clean1', 'bass', 'distorted1',\n",
    "       'distorted2', 'distorted3', 'clean2', 'clean3', 'clean4',\n",
    "       'distorted4', 'distorted5']\n",
    "\n",
    "df_rg_2 = new_df_rg[new_df_rg['Dadagp_Name'].isin(list_test)]\n",
    "\n",
    "df_rg_2['Dadagp_Name'].unique(), df_rg_2['File_Name'].nunique()"
   ]
  },
  {
   "cell_type": "code",
   "execution_count": null,
   "metadata": {},
   "outputs": [
    {
     "name": "stdout",
     "output_type": "stream",
     "text": [
      "(4037501, 9) 23123\n",
      "(4026353, 9) 23123\n"
     ]
    },
    {
     "data": {
      "text/plain": [
       "11148"
      ]
     },
     "execution_count": 7,
     "metadata": {},
     "output_type": "execute_result"
    }
   ],
   "source": [
    "# Some dupicated songs have not been removed using this method because they have the same name AND the same parts' names\n",
    "# in the gp file. To remove them, we perform a drop_duplicates on the Dadagp_Name, Mesure and Dadagp_Path columns.\n",
    "initial_shape = df_rg_2.shape[0]\n",
    "print(df_rg_2.shape, df_rg_2['Dadagp_Path'].nunique())\n",
    "df_rg_2 = df_rg_2.drop_duplicates(subset=['Dadagp_Name', 'Mesure', 'Dadagp_Path'])\n",
    "print(df_rg_2.shape, df_rg_2['Dadagp_Path'].nunique())\n",
    "\n",
    "lost_rows = initial_shape - df_rg_2.shape[0]\n",
    "lost_rows"
   ]
  },
  {
   "cell_type": "code",
   "execution_count": 8,
   "metadata": {},
   "outputs": [],
   "source": [
    "df_rg_2.to_csv('../../data/df_rg_2.csv', index=False)"
   ]
  }
 ],
 "metadata": {
  "kernelspec": {
   "display_name": ".venv",
   "language": "python",
   "name": "python3"
  },
  "language_info": {
   "codemirror_mode": {
    "name": "ipython",
    "version": 3
   },
   "file_extension": ".py",
   "mimetype": "text/x-python",
   "name": "python",
   "nbconvert_exporter": "python",
   "pygments_lexer": "ipython3",
   "version": "3.10.13"
  }
 },
 "nbformat": 4,
 "nbformat_minor": 2
}
