{
 "cells": [
  {
   "cell_type": "markdown",
   "metadata": {},
   "source": [
    "### Loading vocab dictionary (mapping tokens to an id)\n",
    "\n",
    "In this notebook we perform the conversion of the txt tokens to a 2D file containing for each song the sequence of ids of its tokens.\n",
    "For a song to be added to the dataset, it needs to contain bass guitar and a rhythmic guitar."
   ]
  },
  {
   "cell_type": "code",
   "execution_count": 64,
   "metadata": {},
   "outputs": [],
   "source": [
    "import pandas as pd\n",
    "import numpy as np\n",
    "from tqdm import tqdm\n",
    "import guitarpro as pygp\n",
    "import pathlib\n",
    "import pickle\n"
   ]
  },
  {
   "cell_type": "code",
   "execution_count": 65,
   "metadata": {},
   "outputs": [
    {
     "name": "stdout",
     "output_type": "stream",
     "text": [
      "event2word size:  3020\n"
     ]
    }
   ],
   "source": [
    "event2word = pickle.load(open(\"vocab_song_artist.pkl\", 'rb')) # fulldataset non-splitted\n",
    "vocab_size = len(event2word)\n",
    "print(\"event2word size: \", vocab_size)"
   ]
  },
  {
   "cell_type": "code",
   "execution_count": 66,
   "metadata": {},
   "outputs": [],
   "source": [
    "\n",
    "path_to_rg_folder = pathlib.Path(\"..\\..\\data\\BGTG\\BGTG_RG\")\n",
    "path_to_bass_folder = pathlib.Path(\"..\\..\\data\\BGTG\\BGTG_Bass\")\n",
    "# Iterate over all the alphabetical and group folders within each folders \n",
    "# For the first implementation we will assume that if a song has bass it also has RG."
   ]
  },
  {
   "cell_type": "code",
   "execution_count": 67,
   "metadata": {},
   "outputs": [
    {
     "name": "stderr",
     "output_type": "stream",
     "text": [
      "Generating sequences of ids: 100%|██████████| 14480/14480 [00:28<00:00, 515.65it/s]"
     ]
    },
    {
     "name": "stdout",
     "output_type": "stream",
     "text": [
      "Path errors:  724\n",
      "We added 168 new words to the vocab Total vocab size:  3188\n"
     ]
    },
    {
     "name": "stderr",
     "output_type": "stream",
     "text": [
      "\n"
     ]
    }
   ],
   "source": [
    "# Loop on the files of the bass folder, for each file check if there is a corresponding file in the RG folder\n",
    "# Then generate the bass sequence and the RG sequence \n",
    "path_errors=0\n",
    "path_errors_list=[]\n",
    "big_id_file = []\n",
    "for bass_file_path in tqdm(path_to_bass_folder.rglob(\"*.txt\"), total=14480, desc=\"Generating sequences of ids\"):\n",
    "    # Replace _bass with _rythmic and BGTG_Bass by BGTG_RG to get the corresponding RG file\n",
    "    rg_file_path = pathlib.Path((str(bass_file_path).replace(\"_bass.txt\", \"_rythmic.txt\")).replace(\"BGTG_Bass\", \"BGTG_RG\"))\n",
    "    song_name = bass_file_path.stem.split(\"_\")[0]\n",
    "    \n",
    "    if rg_file_path.exists():\n",
    "        bass_sequence = []\n",
    "        rg_sequence = []\n",
    "        \n",
    "        # Open the bass file\n",
    "        with open(bass_file_path, 'r') as bass_file:\n",
    "            bass_lines = bass_file.readlines()\n",
    "            for line in bass_lines:\n",
    "                if line.strip() in event2word:\n",
    "                    bass_sequence.append(event2word[line.strip()])\n",
    "                else:\n",
    "                    # Add it to the vocab\n",
    "                    event2word[line.strip()] = len(event2word)\n",
    "\n",
    "            \n",
    "        with open(rg_file_path, 'r') as rg_file:\n",
    "            rg_lines = rg_file.readlines()\n",
    "            for line in rg_lines:\n",
    "                if line.strip() in event2word:\n",
    "                    rg_sequence.append(event2word[line.strip()])\n",
    "                else:\n",
    "                    # Add it to the vocab\n",
    "                    event2word[line.strip()] = len(event2word)\n",
    "        \n",
    "        big_id_file.append((song_name, bass_sequence, rg_sequence))\n",
    "        \n",
    "        \n",
    "    \n",
    "    else:\n",
    "        path_errors+=1\n",
    "        path_errors_list.append((song_name, bass_file_path, rg_file_path))\n",
    "\n",
    "vocab_errors = len(event2word) - vocab_size\n",
    "print(\"Path errors: \", path_errors)\n",
    "print(\"We added\", vocab_errors, \"new words to the vocab\", \"Total vocab size: \", len(event2word))"
   ]
  },
  {
   "cell_type": "code",
   "execution_count": 68,
   "metadata": {},
   "outputs": [],
   "source": [
    "# After looking it up, the vocab errors are due to new wait tokens that come from the sum of consecutive wait tokens.\n",
    "\n",
    "pd_dataset = pd.DataFrame(big_id_file, columns=[\"Song_Name\", \"Decoder_Bass\", \"Encoder_RG\"])"
   ]
  },
  {
   "cell_type": "code",
   "execution_count": 69,
   "metadata": {},
   "outputs": [
    {
     "name": "stdout",
     "output_type": "stream",
     "text": [
      "We removed 3118 sequences\n"
     ]
    }
   ],
   "source": [
    "# Truncate the sequences to 597 tokens for the decoder and 545 tokens for the encoder\n",
    "# If the sequence is shorter than the truncation length, remove it\n",
    "truncation = True\n",
    "encoder_truncation = 545\n",
    "decoder_truncation = 597\n",
    "\n",
    "def truncate_sequence(sequence, max_length):\n",
    "    seq_length = len(sequence)\n",
    "    if seq_length < max_length:\n",
    "        # Remove the sequence\n",
    "        return None\n",
    "    sequence = sequence[:max_length]\n",
    "    return sequence\n",
    "\n",
    "if truncation:\n",
    "    pd_dataset[\"Decoder_Bass\"] = pd_dataset[\"Decoder_Bass\"].apply(lambda x: truncate_sequence(x, decoder_truncation))\n",
    "    pd_dataset[\"Encoder_RG\"] = pd_dataset[\"Encoder_RG\"].apply(lambda x: truncate_sequence(x, encoder_truncation))\n",
    "    \n",
    "    # Remove the rows with None values\n",
    "    filtered_pd_dataset = pd_dataset.dropna()\n",
    "    \n",
    "    print(\"We removed\", pd_dataset.shape[0] - filtered_pd_dataset.shape[0], \"sequences\")\n"
   ]
  },
  {
   "cell_type": "code",
   "execution_count": 70,
   "metadata": {},
   "outputs": [],
   "source": [
    "filtered_pd_dataset.to_csv(\"..\\..\\data\\BGTG_dataset.csv\", index=False)"
   ]
  },
  {
   "cell_type": "code",
   "execution_count": 71,
   "metadata": {},
   "outputs": [
    {
     "name": "stderr",
     "output_type": "stream",
     "text": [
      "  0%|          | 0/10638 [00:00<?, ?it/s]"
     ]
    },
    {
     "name": "stderr",
     "output_type": "stream",
     "text": [
      "100%|██████████| 10638/10638 [00:42<00:00, 249.69it/s]\n"
     ]
    },
    {
     "data": {
      "text/plain": [
       "((10638, 545), (10638, 597))"
      ]
     },
     "execution_count": 71,
     "metadata": {},
     "output_type": "execute_result"
    }
   ],
   "source": [
    "n_encoder = 545\n",
    "n_decoder = 597\n",
    "n = filtered_pd_dataset.shape[0]\n",
    "\n",
    "encoder_input = np.zeros((n, n_encoder), dtype=int)\n",
    "decoder_input = np.zeros((n, n_decoder), dtype=int)\n",
    "\n",
    "filtered_pd_dataset = filtered_pd_dataset.reset_index(drop=True)\n",
    "\n",
    "for i in tqdm(range(n)):\n",
    "    for j in range(n_encoder):\n",
    "        encoder_input[i][j] = filtered_pd_dataset['Encoder_RG'][i][j]\n",
    "    \n",
    "    for j in range(n_decoder):\n",
    "        decoder_input[i][j] = filtered_pd_dataset['Decoder_Bass'][i][j]\n",
    "        \n",
    "encoder_input.shape, decoder_input.shape"
   ]
  },
  {
   "cell_type": "code",
   "execution_count": 72,
   "metadata": {},
   "outputs": [],
   "source": [
    "# Save the numpy arrays\n",
    "np.save(\"..\\..\\data\\encoder_input.npy\", encoder_input)\n",
    "np.save(\"..\\..\\data\\decoder_input.npy\", decoder_input)"
   ]
  }
 ],
 "metadata": {
  "kernelspec": {
   "display_name": "DADAGP",
   "language": "python",
   "name": "python3"
  },
  "language_info": {
   "codemirror_mode": {
    "name": "ipython",
    "version": 3
   },
   "file_extension": ".py",
   "mimetype": "text/x-python",
   "name": "python",
   "nbconvert_exporter": "python",
   "pygments_lexer": "ipython3",
   "version": "3.9.21"
  }
 },
 "nbformat": 4,
 "nbformat_minor": 2
}
