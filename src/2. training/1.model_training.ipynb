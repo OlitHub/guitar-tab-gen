{
 "cells": [
  {
   "cell_type": "markdown",
   "metadata": {},
   "source": [
    "### Model training\n",
    "\n",
    "Load the pickle file, split in train and test set, and train the model from CP_Drums."
   ]
  },
  {
   "cell_type": "code",
   "execution_count": 2,
   "metadata": {},
   "outputs": [],
   "source": [
    "# Import the autoreload extension\n",
    "%load_ext autoreload\n",
    "\n",
    "# Set autoreload to reload all modules (except those excluded by %aimport)\n",
    "%autoreload 2\n",
    "\n",
    "import numpy as np\n",
    "import pickle as pickle\n",
    "import os\n",
    "os.environ[\"CUDA_VISIBLE_DEVICES\"]=\"1\"\n",
    "import tensorflow as tf\n",
    "import numpy as np\n",
    "import time\n",
    "from aux_train_tf import HybridTransformer, create_masks\n",
    "import matplotlib.pyplot as plt\n",
    "\n",
    "physical_devices = tf.config.list_physical_devices('GPU') "
   ]
  },
  {
   "cell_type": "code",
   "execution_count": 3,
   "metadata": {},
   "outputs": [],
   "source": [
    "train_path = r\"..\\..\\data\\processed\\train_set_streams_16_8_800_50.pickle\"\n",
    "test_path = r\"..\\..\\data\\processed\\val_set_streams_16_8_800_50.pickle\"\n",
    "\n",
    "with open(train_path, 'rb') as handle:\n",
    "    trainSet = pickle.load(handle)\n",
    "\n",
    "with open(test_path, 'rb') as handle:\n",
    "    testSet = pickle.load(handle)"
   ]
  },
  {
   "cell_type": "code",
   "execution_count": 4,
   "metadata": {},
   "outputs": [
    {
     "name": "stdout",
     "output_type": "stream",
     "text": [
      "steps_per_epoch: 2954\n",
      "steps_per_epoch_eval: 369\n"
     ]
    }
   ],
   "source": [
    "#train \n",
    "enc_input_train = np.int64(np.stack(trainSet['Encoder_Input'])) #encoder input\n",
    "dec_input_train = np.int64(np.stack(trainSet['Decoder_Input'])) #decoder onset stream\n",
    "dec_output_train = np.int64(np.stack(trainSet['Decoder_Output']))\n",
    "#validation\n",
    "enc_input_val = np.int64(np.stack(testSet['Encoder_Input']))\n",
    "dec_input_val = np.int64(np.stack(testSet['Decoder_Input']))\n",
    "dec_output_val = np.int64(np.stack(testSet['Decoder_Output']))\n",
    "\n",
    "\n",
    "#prepare datasets\n",
    "BUFFER_SIZE = len(enc_input_train)\n",
    "BUFFER_SIZE_EVAL = len(enc_input_val)\n",
    "BATCH_SIZE = 32 #set batch size\n",
    "steps_per_epoch = BUFFER_SIZE//BATCH_SIZE\n",
    "steps_per_epoch_eval = BUFFER_SIZE_EVAL//BATCH_SIZE\n",
    "\n",
    "print(f\"steps_per_epoch: {steps_per_epoch}\")\n",
    "print(f\"steps_per_epoch_eval: {steps_per_epoch_eval}\")\n"
   ]
  },
  {
   "cell_type": "code",
   "execution_count": 5,
   "metadata": {},
   "outputs": [],
   "source": [
    "#create training and evaluation tf dataset\n",
    "dataset = tf.data.Dataset.from_tensor_slices((enc_input_train, \n",
    "                                              dec_input_train, dec_output_train)).shuffle(BUFFER_SIZE)\n",
    "dataset = dataset.batch(BATCH_SIZE, drop_remainder=True)\n",
    "\n",
    "dataset_eval = tf.data.Dataset.from_tensor_slices((enc_input_val,\n",
    "                                                   dec_input_val, dec_output_val)).shuffle(BUFFER_SIZE_EVAL)\n",
    "dataset_eval = dataset_eval.batch(BATCH_SIZE, drop_remainder=True)\n",
    "\n",
    "\n",
    "#set transformer hyper parameters\n",
    "num_layers = 4  #attention layers\n",
    "#Embeddings\n",
    "d_model_enc = 240 #Encoder Embedding (64 + 16 + 32 + 64 + 64)\n",
    "\n",
    "d_model_dec = 192 #Decoder Embedding (96 + 96)\n",
    "\n",
    "units = 1024 #for Dense Layers and BLSTM Encoder\n",
    "num_heads = 8 #\n",
    "dropout_rate = 0.3\n",
    "\n",
    "#vocab sizes\n",
    "enc_vocab = 1929\n",
    "dec_vocab = 1177\n",
    "\n",
    "#sequence lengths\n",
    "enc_seq_length = 797\n",
    "dec_seq_length = 773\n",
    "\n",
    "#for relative attention half or full window\n",
    "rel_dec_seq = dec_seq_length\n"
   ]
  },
  {
   "cell_type": "code",
   "execution_count": 6,
   "metadata": {},
   "outputs": [],
   "source": [
    "model = HybridTransformer(num_layers=num_layers, d_model_enc=d_model_enc,\n",
    "                          d_model_dec=d_model_dec, num_heads=num_heads,\n",
    "                          dff=units, input_vocab=enc_vocab+1, target_vocab=dec_vocab+1, \n",
    "                          pe_target=dec_seq_length, \n",
    "                          mode_choice='relative', #change to multihead for vanilla attention mechanism\n",
    "                          max_rel_pos_tar=rel_dec_seq, rate=dropout_rate)\n",
    "\n",
    "\n",
    "#Set Optimizers and Loss Function\n",
    "optimizer = tf.keras.optimizers.Adam(0.0005, beta_1=0.9, beta_2=0.98,\n",
    "                                     epsilon=1e-9)\n",
    "\n",
    "loss_object = tf.keras.losses.SparseCategoricalCrossentropy(\n",
    "    from_logits=False, reduction='none')"
   ]
  },
  {
   "cell_type": "code",
   "execution_count": 10,
   "metadata": {},
   "outputs": [
    {
     "name": "stdout",
     "output_type": "stream",
     "text": [
      "Latest checkpoint restored!!\n"
     ]
    }
   ],
   "source": [
    "def loss_function(real, pred):\n",
    "  mask = tf.math.logical_not(tf.math.equal(real, 0))\n",
    "  loss_ = loss_object(real, pred)\n",
    "\n",
    "  mask = tf.cast(mask, dtype=loss_.dtype)\n",
    "  loss_ *= mask\n",
    "\n",
    "  return tf.reduce_sum(loss_)/tf.reduce_sum(mask)\n",
    "\n",
    "\n",
    "def accuracy_function(real, pred):\n",
    "  accuracies = tf.equal(real, tf.argmax(pred, axis=2))\n",
    "\n",
    "  mask = tf.math.logical_not(tf.math.equal(real, 0))\n",
    "  accuracies = tf.math.logical_and(mask, accuracies)\n",
    "\n",
    "  accuracies = tf.cast(accuracies, dtype=tf.float32)\n",
    "  mask = tf.cast(mask, dtype=tf.float32)\n",
    "  return tf.reduce_sum(accuracies)/tf.reduce_sum(mask)\n",
    "\n",
    "#Set TF Metrics\n",
    "train_loss = tf.keras.metrics.Mean(name='train_loss')\n",
    "train_accuracy = tf.keras.metrics.Mean(name='train_accuracy')\n",
    "\n",
    "val_loss = tf.keras.metrics.Mean(name='val_loss')\n",
    "val_accuracy = tf.keras.metrics.Mean(name='val_accuracy')\n",
    "\n",
    "#Set Checkpoints\n",
    "checkpoint_path = r'..\\3. inference\\aux_files\\checkpoints\\.'\n",
    "\n",
    "ckpt = tf.train.Checkpoint(model=model, optimizer=optimizer)\n",
    "\n",
    "ckpt_manager = tf.train.CheckpointManager(ckpt, checkpoint_path, max_to_keep=1)\n",
    "\n",
    "# if a checkpoint exists, restore the latest checkpoint.\n",
    "if ckpt_manager.latest_checkpoint:\n",
    "  ckpt.restore(ckpt_manager.latest_checkpoint)\n",
    "  print('Latest checkpoint restored!!')\n",
    "\n",
    "# Set input signatures\n",
    "\n",
    "train_step_signature = [\n",
    "    tf.TensorSpec(shape=(None, None), dtype=tf.int64),\n",
    "    tf.TensorSpec(shape=(None, None), dtype=tf.int64),\n",
    "    tf.TensorSpec(shape=(None, None), dtype=tf.int64)\n",
    "]\n",
    "\n",
    "val_step_signature = [\n",
    "    tf.TensorSpec(shape=(None, None), dtype=tf.int64),\n",
    "    tf.TensorSpec(shape=(None, None), dtype=tf.int64),\n",
    "    tf.TensorSpec(shape=(None, None), dtype=tf.int64)\n",
    "]\n",
    "\n",
    "\n",
    "'''Training and Validation functions'''\n",
    "@tf.function(input_signature=train_step_signature)\n",
    "def train_step(inp, tar_inp, tar_real):\n",
    "\n",
    "  _, combined_mask, dec_padding_mask = create_masks(inp, tar_inp)\n",
    "\n",
    "  with tf.GradientTape() as tape:\n",
    "    preds, _ = model(\tinp,\n",
    "\t\t\t\t\t\ttar_inp,\n",
    "\t\t\t\t\t\tTrue,\n",
    "\t\t\t\t\t\tcombined_mask,\n",
    "\t\t\t\t\t\tdec_padding_mask)\n",
    "    \n",
    "    loss = loss_function(tar_real, preds)\n",
    "\n",
    "  gradients = tape.gradient(loss, model.trainable_variables)\n",
    "  optimizer.apply_gradients(zip(gradients, model.trainable_variables))\n",
    "  \n",
    "  acc = accuracy_function(tar_real, preds)\n",
    "\n",
    "  train_loss(loss)\n",
    "  train_accuracy(acc)\n",
    "  \n",
    "  \n",
    "  \n",
    "@tf.function(input_signature=val_step_signature)\n",
    "def val_step(inp, tar_inp, tar_real):\n",
    "\n",
    "\n",
    "  _, combined_mask, dec_padding_mask = create_masks(inp, tar_inp)\n",
    "\n",
    "  preds, _ = model(\tinp,\n",
    "\t\t\t\t\ttar_inp,\n",
    "\t\t\t\t\tFalse, #change?\n",
    "\t\t\t\t\tcombined_mask,\n",
    "\t\t\t\t\tdec_padding_mask)\n",
    "  \n",
    "  loss = loss_function(tar_real, preds)\n",
    "  \n",
    "  acc = accuracy_function(tar_real, preds)\n",
    "\n",
    "  val_loss(loss)\n",
    "  val_accuracy(acc)"
   ]
  },
  {
   "cell_type": "code",
   "execution_count": null,
   "metadata": {},
   "outputs": [],
   "source": [
    "\"\"\"START TRAINING\"\"\"\n",
    "epochs = 200\n",
    "patience = 0\n",
    "curr_loss = 99.99    \n",
    "for epoch in range(epochs):\n",
    "    start = time.time()\n",
    "    \n",
    "    train_loss.reset_states()\n",
    "    train_accuracy.reset_states()\n",
    "    \n",
    "    print(f'Epoch {epoch + 1}')\n",
    "    print('----')\n",
    "    for (batch, (inp, tar_inp, tar_real)) in enumerate(dataset.take(steps_per_epoch)):\n",
    "        train_step(inp, tar_inp, tar_real)\n",
    "    \n",
    "    # Print the values\n",
    "    if batch % 50 == 0:\n",
    "        print(f'Batch {batch}')\n",
    "        print(f'Loss {train_loss.result():.4f} -- Accuracy {train_accuracy.result():.4f}')\n",
    "        print('----')\n",
    "    \n",
    "    print(f'Loss {train_loss.result():.4f} -- Accuracy {train_accuracy.result():.4f}')\n",
    "  \n",
    "    \n",
    "    print('Evaluating...')\n",
    "\n",
    "    val_loss.reset_states()\n",
    "    val_accuracy.reset_states()\n",
    "    \n",
    "    for (batch, (inp, tar_inp, tar_real)) in enumerate(dataset_eval.take(steps_per_epoch_eval)):\n",
    "        val_step(inp, tar_inp, tar_real)\n",
    "        \n",
    "    print('----')\n",
    "    print(f'Validation Loss {val_loss.result():.4f} -- Validation Accuracy {val_accuracy.result():.4f}')  \n",
    "    \n",
    "    \n",
    "    val_loss_np = np.round((val_loss.result().numpy()), decimals = 5) #change weights\n",
    "    print('Overall weighted Validation Loss: ', val_loss_np)\n",
    "    \n",
    "    '''EARLY STOP MECHANISM'''\n",
    "    if curr_loss > val_loss_np:\n",
    "        #save checkpoint\n",
    "        print('Checkpoint saved.')\n",
    "        patience = 0\n",
    "        save_path = ckpt_manager.save()\n",
    "        curr_loss = val_loss_np\n",
    "    \n",
    "    else:\n",
    "        print('No validation loss improvement.')\n",
    "        patience += 1\n",
    "      \n",
    "    print(f'Time taken for this epoch: {time.time() - start:.2f} secs\\n')    \n",
    "    print('*******************************')\n",
    "      \n",
    "    if patience > 5:\n",
    "        print('Terminating the training.')\n",
    "        break"
   ]
  },
  {
   "cell_type": "markdown",
   "metadata": {},
   "source": [
    "## Metrics and plots"
   ]
  },
  {
   "cell_type": "code",
   "execution_count": 6,
   "metadata": {},
   "outputs": [
    {
     "data": {
      "application/vnd.plotly.v1+json": {
       "config": {
        "plotlyServerURL": "https://plot.ly"
       },
       "data": [
        {
         "mode": "lines",
         "name": "Loss",
         "type": "scatter",
         "x": [
          1,
          2,
          3,
          4,
          5,
          6,
          7,
          8,
          9,
          10,
          11,
          12,
          13,
          14,
          15,
          16,
          17,
          18,
          19,
          20,
          21,
          22,
          23,
          24,
          25,
          26,
          27,
          28,
          29,
          30,
          31,
          32,
          33,
          34,
          35,
          36,
          37,
          38,
          39,
          40,
          41,
          42,
          43,
          44,
          45
         ],
         "y": [
          1.1344,
          0.9673,
          0.9067,
          0.8512,
          0.8167,
          0.7635,
          0.7283,
          0.7045,
          0.6759,
          0.6523,
          0.5961,
          0.5582,
          0.5069,
          0.4756,
          0.456,
          0.4147,
          0.367,
          0.343,
          0.325,
          0.3,
          0.28,
          0.26,
          0.24,
          0.22,
          0.2,
          0.18,
          0.16,
          0.15,
          0.146,
          0.144,
          0.1422,
          0.142,
          0.1413,
          0.1403,
          0.1374,
          0.1396,
          0.1407,
          0.1372,
          0.1354,
          0.1397,
          0.1366,
          0.1376,
          0.1392,
          0.1364,
          0.1356
         ]
        },
        {
         "mode": "lines",
         "name": "Accuracy",
         "type": "scatter",
         "x": [
          1,
          2,
          3,
          4,
          5,
          6,
          7,
          8,
          9,
          10,
          11,
          12,
          13,
          14,
          15,
          16,
          17,
          18,
          19,
          20,
          21,
          22,
          23,
          24,
          25,
          26,
          27,
          28,
          29,
          30,
          31,
          32,
          33,
          34,
          35,
          36,
          37,
          38,
          39,
          40,
          41,
          42,
          43,
          44,
          45
         ],
         "y": [
          0.7,
          0.74,
          0.77,
          0.79,
          0.81,
          0.83,
          0.84,
          0.85,
          0.86,
          0.87,
          0.89,
          0.895,
          0.9,
          0.908,
          0.915,
          0.922,
          0.925,
          0.929,
          0.931,
          0.935,
          0.937,
          0.94,
          0.943,
          0.949,
          0.952,
          0.957,
          0.959,
          0.961,
          0.962,
          0.9627,
          0.963,
          0.9632,
          0.9633,
          0.9636,
          0.9639,
          0.9635,
          0.964,
          0.9645,
          0.9648,
          0.9645,
          0.965,
          0.9652,
          0.9648,
          0.9651,
          0.9654
         ]
        }
       ],
       "layout": {
        "legend": {
         "title": {
          "text": "Metrics"
         }
        },
        "template": {
         "data": {
          "bar": [
           {
            "error_x": {
             "color": "#2a3f5f"
            },
            "error_y": {
             "color": "#2a3f5f"
            },
            "marker": {
             "line": {
              "color": "#E5ECF6",
              "width": 0.5
             },
             "pattern": {
              "fillmode": "overlay",
              "size": 10,
              "solidity": 0.2
             }
            },
            "type": "bar"
           }
          ],
          "barpolar": [
           {
            "marker": {
             "line": {
              "color": "#E5ECF6",
              "width": 0.5
             },
             "pattern": {
              "fillmode": "overlay",
              "size": 10,
              "solidity": 0.2
             }
            },
            "type": "barpolar"
           }
          ],
          "carpet": [
           {
            "aaxis": {
             "endlinecolor": "#2a3f5f",
             "gridcolor": "white",
             "linecolor": "white",
             "minorgridcolor": "white",
             "startlinecolor": "#2a3f5f"
            },
            "baxis": {
             "endlinecolor": "#2a3f5f",
             "gridcolor": "white",
             "linecolor": "white",
             "minorgridcolor": "white",
             "startlinecolor": "#2a3f5f"
            },
            "type": "carpet"
           }
          ],
          "choropleth": [
           {
            "colorbar": {
             "outlinewidth": 0,
             "ticks": ""
            },
            "type": "choropleth"
           }
          ],
          "contour": [
           {
            "colorbar": {
             "outlinewidth": 0,
             "ticks": ""
            },
            "colorscale": [
             [
              0,
              "#0d0887"
             ],
             [
              0.1111111111111111,
              "#46039f"
             ],
             [
              0.2222222222222222,
              "#7201a8"
             ],
             [
              0.3333333333333333,
              "#9c179e"
             ],
             [
              0.4444444444444444,
              "#bd3786"
             ],
             [
              0.5555555555555556,
              "#d8576b"
             ],
             [
              0.6666666666666666,
              "#ed7953"
             ],
             [
              0.7777777777777778,
              "#fb9f3a"
             ],
             [
              0.8888888888888888,
              "#fdca26"
             ],
             [
              1,
              "#f0f921"
             ]
            ],
            "type": "contour"
           }
          ],
          "contourcarpet": [
           {
            "colorbar": {
             "outlinewidth": 0,
             "ticks": ""
            },
            "type": "contourcarpet"
           }
          ],
          "heatmap": [
           {
            "colorbar": {
             "outlinewidth": 0,
             "ticks": ""
            },
            "colorscale": [
             [
              0,
              "#0d0887"
             ],
             [
              0.1111111111111111,
              "#46039f"
             ],
             [
              0.2222222222222222,
              "#7201a8"
             ],
             [
              0.3333333333333333,
              "#9c179e"
             ],
             [
              0.4444444444444444,
              "#bd3786"
             ],
             [
              0.5555555555555556,
              "#d8576b"
             ],
             [
              0.6666666666666666,
              "#ed7953"
             ],
             [
              0.7777777777777778,
              "#fb9f3a"
             ],
             [
              0.8888888888888888,
              "#fdca26"
             ],
             [
              1,
              "#f0f921"
             ]
            ],
            "type": "heatmap"
           }
          ],
          "heatmapgl": [
           {
            "colorbar": {
             "outlinewidth": 0,
             "ticks": ""
            },
            "colorscale": [
             [
              0,
              "#0d0887"
             ],
             [
              0.1111111111111111,
              "#46039f"
             ],
             [
              0.2222222222222222,
              "#7201a8"
             ],
             [
              0.3333333333333333,
              "#9c179e"
             ],
             [
              0.4444444444444444,
              "#bd3786"
             ],
             [
              0.5555555555555556,
              "#d8576b"
             ],
             [
              0.6666666666666666,
              "#ed7953"
             ],
             [
              0.7777777777777778,
              "#fb9f3a"
             ],
             [
              0.8888888888888888,
              "#fdca26"
             ],
             [
              1,
              "#f0f921"
             ]
            ],
            "type": "heatmapgl"
           }
          ],
          "histogram": [
           {
            "marker": {
             "pattern": {
              "fillmode": "overlay",
              "size": 10,
              "solidity": 0.2
             }
            },
            "type": "histogram"
           }
          ],
          "histogram2d": [
           {
            "colorbar": {
             "outlinewidth": 0,
             "ticks": ""
            },
            "colorscale": [
             [
              0,
              "#0d0887"
             ],
             [
              0.1111111111111111,
              "#46039f"
             ],
             [
              0.2222222222222222,
              "#7201a8"
             ],
             [
              0.3333333333333333,
              "#9c179e"
             ],
             [
              0.4444444444444444,
              "#bd3786"
             ],
             [
              0.5555555555555556,
              "#d8576b"
             ],
             [
              0.6666666666666666,
              "#ed7953"
             ],
             [
              0.7777777777777778,
              "#fb9f3a"
             ],
             [
              0.8888888888888888,
              "#fdca26"
             ],
             [
              1,
              "#f0f921"
             ]
            ],
            "type": "histogram2d"
           }
          ],
          "histogram2dcontour": [
           {
            "colorbar": {
             "outlinewidth": 0,
             "ticks": ""
            },
            "colorscale": [
             [
              0,
              "#0d0887"
             ],
             [
              0.1111111111111111,
              "#46039f"
             ],
             [
              0.2222222222222222,
              "#7201a8"
             ],
             [
              0.3333333333333333,
              "#9c179e"
             ],
             [
              0.4444444444444444,
              "#bd3786"
             ],
             [
              0.5555555555555556,
              "#d8576b"
             ],
             [
              0.6666666666666666,
              "#ed7953"
             ],
             [
              0.7777777777777778,
              "#fb9f3a"
             ],
             [
              0.8888888888888888,
              "#fdca26"
             ],
             [
              1,
              "#f0f921"
             ]
            ],
            "type": "histogram2dcontour"
           }
          ],
          "mesh3d": [
           {
            "colorbar": {
             "outlinewidth": 0,
             "ticks": ""
            },
            "type": "mesh3d"
           }
          ],
          "parcoords": [
           {
            "line": {
             "colorbar": {
              "outlinewidth": 0,
              "ticks": ""
             }
            },
            "type": "parcoords"
           }
          ],
          "pie": [
           {
            "automargin": true,
            "type": "pie"
           }
          ],
          "scatter": [
           {
            "fillpattern": {
             "fillmode": "overlay",
             "size": 10,
             "solidity": 0.2
            },
            "type": "scatter"
           }
          ],
          "scatter3d": [
           {
            "line": {
             "colorbar": {
              "outlinewidth": 0,
              "ticks": ""
             }
            },
            "marker": {
             "colorbar": {
              "outlinewidth": 0,
              "ticks": ""
             }
            },
            "type": "scatter3d"
           }
          ],
          "scattercarpet": [
           {
            "marker": {
             "colorbar": {
              "outlinewidth": 0,
              "ticks": ""
             }
            },
            "type": "scattercarpet"
           }
          ],
          "scattergeo": [
           {
            "marker": {
             "colorbar": {
              "outlinewidth": 0,
              "ticks": ""
             }
            },
            "type": "scattergeo"
           }
          ],
          "scattergl": [
           {
            "marker": {
             "colorbar": {
              "outlinewidth": 0,
              "ticks": ""
             }
            },
            "type": "scattergl"
           }
          ],
          "scattermapbox": [
           {
            "marker": {
             "colorbar": {
              "outlinewidth": 0,
              "ticks": ""
             }
            },
            "type": "scattermapbox"
           }
          ],
          "scatterpolar": [
           {
            "marker": {
             "colorbar": {
              "outlinewidth": 0,
              "ticks": ""
             }
            },
            "type": "scatterpolar"
           }
          ],
          "scatterpolargl": [
           {
            "marker": {
             "colorbar": {
              "outlinewidth": 0,
              "ticks": ""
             }
            },
            "type": "scatterpolargl"
           }
          ],
          "scatterternary": [
           {
            "marker": {
             "colorbar": {
              "outlinewidth": 0,
              "ticks": ""
             }
            },
            "type": "scatterternary"
           }
          ],
          "surface": [
           {
            "colorbar": {
             "outlinewidth": 0,
             "ticks": ""
            },
            "colorscale": [
             [
              0,
              "#0d0887"
             ],
             [
              0.1111111111111111,
              "#46039f"
             ],
             [
              0.2222222222222222,
              "#7201a8"
             ],
             [
              0.3333333333333333,
              "#9c179e"
             ],
             [
              0.4444444444444444,
              "#bd3786"
             ],
             [
              0.5555555555555556,
              "#d8576b"
             ],
             [
              0.6666666666666666,
              "#ed7953"
             ],
             [
              0.7777777777777778,
              "#fb9f3a"
             ],
             [
              0.8888888888888888,
              "#fdca26"
             ],
             [
              1,
              "#f0f921"
             ]
            ],
            "type": "surface"
           }
          ],
          "table": [
           {
            "cells": {
             "fill": {
              "color": "#EBF0F8"
             },
             "line": {
              "color": "white"
             }
            },
            "header": {
             "fill": {
              "color": "#C8D4E3"
             },
             "line": {
              "color": "white"
             }
            },
            "type": "table"
           }
          ]
         },
         "layout": {
          "annotationdefaults": {
           "arrowcolor": "#2a3f5f",
           "arrowhead": 0,
           "arrowwidth": 1
          },
          "autotypenumbers": "strict",
          "coloraxis": {
           "colorbar": {
            "outlinewidth": 0,
            "ticks": ""
           }
          },
          "colorscale": {
           "diverging": [
            [
             0,
             "#8e0152"
            ],
            [
             0.1,
             "#c51b7d"
            ],
            [
             0.2,
             "#de77ae"
            ],
            [
             0.3,
             "#f1b6da"
            ],
            [
             0.4,
             "#fde0ef"
            ],
            [
             0.5,
             "#f7f7f7"
            ],
            [
             0.6,
             "#e6f5d0"
            ],
            [
             0.7,
             "#b8e186"
            ],
            [
             0.8,
             "#7fbc41"
            ],
            [
             0.9,
             "#4d9221"
            ],
            [
             1,
             "#276419"
            ]
           ],
           "sequential": [
            [
             0,
             "#0d0887"
            ],
            [
             0.1111111111111111,
             "#46039f"
            ],
            [
             0.2222222222222222,
             "#7201a8"
            ],
            [
             0.3333333333333333,
             "#9c179e"
            ],
            [
             0.4444444444444444,
             "#bd3786"
            ],
            [
             0.5555555555555556,
             "#d8576b"
            ],
            [
             0.6666666666666666,
             "#ed7953"
            ],
            [
             0.7777777777777778,
             "#fb9f3a"
            ],
            [
             0.8888888888888888,
             "#fdca26"
            ],
            [
             1,
             "#f0f921"
            ]
           ],
           "sequentialminus": [
            [
             0,
             "#0d0887"
            ],
            [
             0.1111111111111111,
             "#46039f"
            ],
            [
             0.2222222222222222,
             "#7201a8"
            ],
            [
             0.3333333333333333,
             "#9c179e"
            ],
            [
             0.4444444444444444,
             "#bd3786"
            ],
            [
             0.5555555555555556,
             "#d8576b"
            ],
            [
             0.6666666666666666,
             "#ed7953"
            ],
            [
             0.7777777777777778,
             "#fb9f3a"
            ],
            [
             0.8888888888888888,
             "#fdca26"
            ],
            [
             1,
             "#f0f921"
            ]
           ]
          },
          "colorway": [
           "#636efa",
           "#EF553B",
           "#00cc96",
           "#ab63fa",
           "#FFA15A",
           "#19d3f3",
           "#FF6692",
           "#B6E880",
           "#FF97FF",
           "#FECB52"
          ],
          "font": {
           "color": "#2a3f5f"
          },
          "geo": {
           "bgcolor": "white",
           "lakecolor": "white",
           "landcolor": "#E5ECF6",
           "showlakes": true,
           "showland": true,
           "subunitcolor": "white"
          },
          "hoverlabel": {
           "align": "left"
          },
          "hovermode": "closest",
          "mapbox": {
           "style": "light"
          },
          "paper_bgcolor": "white",
          "plot_bgcolor": "#E5ECF6",
          "polar": {
           "angularaxis": {
            "gridcolor": "white",
            "linecolor": "white",
            "ticks": ""
           },
           "bgcolor": "#E5ECF6",
           "radialaxis": {
            "gridcolor": "white",
            "linecolor": "white",
            "ticks": ""
           }
          },
          "scene": {
           "xaxis": {
            "backgroundcolor": "#E5ECF6",
            "gridcolor": "white",
            "gridwidth": 2,
            "linecolor": "white",
            "showbackground": true,
            "ticks": "",
            "zerolinecolor": "white"
           },
           "yaxis": {
            "backgroundcolor": "#E5ECF6",
            "gridcolor": "white",
            "gridwidth": 2,
            "linecolor": "white",
            "showbackground": true,
            "ticks": "",
            "zerolinecolor": "white"
           },
           "zaxis": {
            "backgroundcolor": "#E5ECF6",
            "gridcolor": "white",
            "gridwidth": 2,
            "linecolor": "white",
            "showbackground": true,
            "ticks": "",
            "zerolinecolor": "white"
           }
          },
          "shapedefaults": {
           "line": {
            "color": "#2a3f5f"
           }
          },
          "ternary": {
           "aaxis": {
            "gridcolor": "white",
            "linecolor": "white",
            "ticks": ""
           },
           "baxis": {
            "gridcolor": "white",
            "linecolor": "white",
            "ticks": ""
           },
           "bgcolor": "#E5ECF6",
           "caxis": {
            "gridcolor": "white",
            "linecolor": "white",
            "ticks": ""
           }
          },
          "title": {
           "x": 0.05
          },
          "xaxis": {
           "automargin": true,
           "gridcolor": "white",
           "linecolor": "white",
           "ticks": "",
           "title": {
            "standoff": 15
           },
           "zerolinecolor": "white",
           "zerolinewidth": 2
          },
          "yaxis": {
           "automargin": true,
           "gridcolor": "white",
           "linecolor": "white",
           "ticks": "",
           "title": {
            "standoff": 15
           },
           "zerolinecolor": "white",
           "zerolinewidth": 2
          }
         }
        },
        "title": {
         "text": "Validation Loss and Accuracy Evolution"
        },
        "xaxis": {
         "title": {
          "text": "Epoch"
         }
        },
        "yaxis": {
         "title": {
          "text": "Value"
         }
        }
       }
      }
     },
     "metadata": {},
     "output_type": "display_data"
    }
   ],
   "source": [
    "import plotly.graph_objects as go\n",
    "\n",
    "# Plot the evolution of the loss and accuracy\n",
    "\n",
    "list_loss = []\n",
    "list_acc = []\n",
    "\n",
    "# Loss and accuracy values can be found in out_files/training.out file\n",
    "# Example of a line: Validation Loss 0.4065 -- Accuracy 0.8972\n",
    "\n",
    "out_file = 'out_files/training_2_full.out'\n",
    "\n",
    "with open(out_file, 'r') as f:\n",
    "    for line in f:\n",
    "        if 'Validation Loss' in line and not 'Overall' in line:\n",
    "            list_loss.append(float(line.split()[2]))\n",
    "            list_acc.append(float(line.split()[5]))\n",
    "\n",
    "# Convert range objects to lists\n",
    "x_values_loss = list(range(1, len(list_loss) + 1))\n",
    "x_values_acc = list(range(1, len(list_acc) + 1))\n",
    "\n",
    "# Plot the evolution of the loss and accuracy on the same graph\n",
    "fig = go.Figure()\n",
    "\n",
    "# Add Loss\n",
    "fig.add_trace(go.Scatter(x=x_values_loss, y=list_loss, mode='lines', name='Loss'))\n",
    "\n",
    "# Add Accuracy\n",
    "fig.add_trace(go.Scatter(x=x_values_acc, y=list_acc, mode='lines', name='Accuracy'))\n",
    "\n",
    "fig.update_layout(title='Validation Loss and Accuracy Evolution', \n",
    "                  xaxis_title='Epoch', \n",
    "                  yaxis_title='Value',\n",
    "                  legend_title=\"Metrics\")\n",
    "\n",
    "fig.show()"
   ]
  }
 ],
 "metadata": {
  "kernelspec": {
   "display_name": "DADAGP",
   "language": "python",
   "name": "python3"
  },
  "language_info": {
   "codemirror_mode": {
    "name": "ipython",
    "version": 3
   },
   "file_extension": ".py",
   "mimetype": "text/x-python",
   "name": "python",
   "nbconvert_exporter": "python",
   "pygments_lexer": "ipython3",
   "version": "3.13.2"
  }
 },
 "nbformat": 4,
 "nbformat_minor": 2
}
