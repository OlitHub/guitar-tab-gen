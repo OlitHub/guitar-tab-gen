{
 "cells": [
  {
   "cell_type": "markdown",
   "metadata": {},
   "source": [
    "### Take generated tokens and output gp5 files"
   ]
  },
  {
   "cell_type": "code",
   "execution_count": 13,
   "metadata": {},
   "outputs": [
    {
     "name": "stdout",
     "output_type": "stream",
     "text": [
      "The autoreload extension is already loaded. To reload it, use:\n",
      "  %reload_ext autoreload\n"
     ]
    }
   ],
   "source": [
    "# Import the autoreload extension\n",
    "%load_ext autoreload\n",
    "\n",
    "# Set autoreload to reload all modules (except those excluded by %aimport)\n",
    "%autoreload 2\n",
    "\n",
    "import os\n",
    "os.environ[\"CUDA_VISIBLE_DEVICES\"]=\"0\" #for GPU inference\n",
    "from glob import glob\n",
    "\n",
    "from dadagp import dadagp_conversion"
   ]
  },
  {
   "cell_type": "code",
   "execution_count": 14,
   "metadata": {},
   "outputs": [],
   "source": [
    "#input folder (put txt token files of rg only here)\n",
    "inp_path = glob('tokens_out/*')\n",
    "#output folder\n",
    "out_path = './generated_gp5/'"
   ]
  },
  {
   "cell_type": "code",
   "execution_count": 16,
   "metadata": {},
   "outputs": [
    {
     "name": "stdout",
     "output_type": "stream",
     "text": [
      "Processing: DECODE from tokens_out\\ACDC - Highway to Hell_with_bass_0.7.txt to ./generated_gp5/ACDC - Highway to Hell_with_bass_0.7.gp5\n",
      "Failed to decode ACDC - Highway to Hell_with_bass_0.7\n",
      "\n",
      "Processing: DECODE from tokens_out\\ACDC - Highway to Hell_with_bass_0.9.txt to ./generated_gp5/ACDC - Highway to Hell_with_bass_0.9.gp5\n",
      "✅ Done.\n",
      "Decoded ACDC - Highway to Hell_with_bass_0.9 to ./generated_gp5/ACDC - Highway to Hell_with_bass_0.9.gp5\n",
      "\n",
      "Processing: DECODE from tokens_out\\Genesis - I Can't Dance_with_bass_0.7.txt to ./generated_gp5/Genesis - I Can't Dance_with_bass_0.7.gp5\n",
      "✅ Done.\n",
      "Decoded Genesis - I Can't Dance_with_bass_0.7 to ./generated_gp5/Genesis - I Can't Dance_with_bass_0.7.gp5\n",
      "\n",
      "Processing: DECODE from tokens_out\\Genesis - I Can't Dance_with_bass_0.9.txt to ./generated_gp5/Genesis - I Can't Dance_with_bass_0.9.gp5\n",
      "✅ Done.\n",
      "Decoded Genesis - I Can't Dance_with_bass_0.9 to ./generated_gp5/Genesis - I Can't Dance_with_bass_0.9.gp5\n",
      "\n",
      "Processing: DECODE from tokens_out\\Metallica - Enter Sandman (5)_with_bass_0.7.txt to ./generated_gp5/Metallica - Enter Sandman (5)_with_bass_0.7.gp5\n",
      "Failed to decode Metallica - Enter Sandman (5)_with_bass_0.7\n",
      "\n",
      "Processing: DECODE from tokens_out\\Metallica - Enter Sandman (5)_with_bass_0.9.txt to ./generated_gp5/Metallica - Enter Sandman (5)_with_bass_0.9.gp5\n",
      "✅ Done.\n",
      "Decoded Metallica - Enter Sandman (5)_with_bass_0.9 to ./generated_gp5/Metallica - Enter Sandman (5)_with_bass_0.9.gp5\n",
      "\n",
      "Processing: DECODE from tokens_out\\Muse - Plug In Baby (2)_with_bass_0.7.txt to ./generated_gp5/Muse - Plug In Baby (2)_with_bass_0.7.gp5\n",
      "✅ Done.\n",
      "Decoded Muse - Plug In Baby (2)_with_bass_0.7 to ./generated_gp5/Muse - Plug In Baby (2)_with_bass_0.7.gp5\n",
      "\n",
      "Processing: DECODE from tokens_out\\Muse - Plug In Baby (2)_with_bass_0.9.txt to ./generated_gp5/Muse - Plug In Baby (2)_with_bass_0.9.gp5\n",
      "✅ Done.\n",
      "Decoded Muse - Plug In Baby (2)_with_bass_0.9 to ./generated_gp5/Muse - Plug In Baby (2)_with_bass_0.9.gp5\n",
      "\n",
      "Processing: DECODE from tokens_out\\Radiohead - Exit Music (For a Film)_with_bass_0.7.txt to ./generated_gp5/Radiohead - Exit Music (For a Film)_with_bass_0.7.gp5\n",
      "✅ Done.\n",
      "Decoded Radiohead - Exit Music (For a Film)_with_bass_0.7 to ./generated_gp5/Radiohead - Exit Music (For a Film)_with_bass_0.7.gp5\n",
      "\n",
      "Processing: DECODE from tokens_out\\Radiohead - Exit Music (For a Film)_with_bass_0.9.txt to ./generated_gp5/Radiohead - Exit Music (For a Film)_with_bass_0.9.gp5\n",
      "✅ Done.\n",
      "Decoded Radiohead - Exit Music (For a Film)_with_bass_0.9 to ./generated_gp5/Radiohead - Exit Music (For a Film)_with_bass_0.9.gp5\n",
      "\n",
      "Processing: DECODE from tokens_out\\System Of A Down - Chop Suey_with_bass_0.7.txt to ./generated_gp5/System Of A Down - Chop Suey_with_bass_0.7.gp5\n",
      "✅ Done.\n",
      "Decoded System Of A Down - Chop Suey_with_bass_0.7 to ./generated_gp5/System Of A Down - Chop Suey_with_bass_0.7.gp5\n",
      "\n",
      "Processing: DECODE from tokens_out\\System Of A Down - Chop Suey_with_bass_0.9.txt to ./generated_gp5/System Of A Down - Chop Suey_with_bass_0.9.gp5\n",
      "✅ Done.\n",
      "Decoded System Of A Down - Chop Suey_with_bass_0.9 to ./generated_gp5/System Of A Down - Chop Suey_with_bass_0.9.gp5\n",
      "\n"
     ]
    }
   ],
   "source": [
    "for token_file in inp_path:\n",
    "    trk_name = token_file.split('\\\\')[-1][:-4]\n",
    "    output_file = out_path + trk_name + '.gp5'\n",
    "    try:\n",
    "        dadagp_conversion(\"decode\", token_file, output_file, verbose=False)\n",
    "        print(f\"Decoded {trk_name} to {output_file}\\n\")\n",
    "    except:\n",
    "        print(f\"Failed to decode {trk_name}\\n\")"
   ]
  }
 ],
 "metadata": {
  "kernelspec": {
   "display_name": "DADAGP",
   "language": "python",
   "name": "python3"
  },
  "language_info": {
   "codemirror_mode": {
    "name": "ipython",
    "version": 3
   },
   "file_extension": ".py",
   "mimetype": "text/x-python",
   "name": "python",
   "nbconvert_exporter": "python",
   "pygments_lexer": "ipython3",
   "version": "3.13.2"
  }
 },
 "nbformat": 4,
 "nbformat_minor": 2
}
