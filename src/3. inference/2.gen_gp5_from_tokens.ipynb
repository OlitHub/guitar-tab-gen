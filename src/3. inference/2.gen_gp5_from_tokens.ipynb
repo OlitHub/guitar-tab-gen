{
 "cells": [
  {
   "cell_type": "markdown",
   "metadata": {},
   "source": [
    "### Take generated tokens and output gp5 files"
   ]
  },
  {
   "cell_type": "code",
   "execution_count": 1,
   "metadata": {},
   "outputs": [],
   "source": [
    "# Import the autoreload extension\n",
    "%load_ext autoreload\n",
    "\n",
    "# Set autoreload to reload all modules (except those excluded by %aimport)\n",
    "%autoreload 2\n",
    "\n",
    "import os\n",
    "os.environ[\"CUDA_VISIBLE_DEVICES\"]=\"0\" #for GPU inference\n",
    "from glob import glob\n",
    "\n",
    "from dadagp import dadagp_conversion"
   ]
  },
  {
   "cell_type": "code",
   "execution_count": 14,
   "metadata": {},
   "outputs": [],
   "source": [
    "#input folder (put txt token files of rg only here)\n",
    "inp_path = glob('tokens_out/*')\n",
    "#output folder\n",
    "out_path = './gp5_out/'"
   ]
  },
  {
   "cell_type": "code",
   "execution_count": 15,
   "metadata": {},
   "outputs": [
    {
     "name": "stdout",
     "output_type": "stream",
     "text": [
      "Processing: DECODE from tokens_out\\Abba-Dancing Queen_with_bass_0.9.txt to ./gp5_out/Abba-Dancing Queen_with_bass_0.9.gp5\n",
      "✅ Done.\n",
      "Decoded Abba-Dancing Queen_with_bass_0.9 to ./gp5_out/Abba-Dancing Queen_with_bass_0.9.gp5\n",
      "\n",
      "Processing: DECODE from tokens_out\\Arctic Monkeys-Do I Wanna Know_with_bass_0.9.txt to ./gp5_out/Arctic Monkeys-Do I Wanna Know_with_bass_0.9.gp5\n",
      "✅ Done.\n",
      "Decoded Arctic Monkeys-Do I Wanna Know_with_bass_0.9 to ./gp5_out/Arctic Monkeys-Do I Wanna Know_with_bass_0.9.gp5\n",
      "\n",
      "Processing: DECODE from tokens_out\\Camel-Ice_with_bass_0.9.txt to ./gp5_out/Camel-Ice_with_bass_0.9.gp5\n",
      "✅ Done.\n",
      "Decoded Camel-Ice_with_bass_0.9 to ./gp5_out/Camel-Ice_with_bass_0.9.gp5\n",
      "\n",
      "Processing: DECODE from tokens_out\\Earth Wind And Fire-September_with_bass_0.9.txt to ./gp5_out/Earth Wind And Fire-September_with_bass_0.9.gp5\n",
      "✅ Done.\n",
      "Decoded Earth Wind And Fire-September_with_bass_0.9 to ./gp5_out/Earth Wind And Fire-September_with_bass_0.9.gp5\n",
      "\n",
      "Processing: DECODE from tokens_out\\Gojira-Ah a Ira_with_bass_0.9.txt to ./gp5_out/Gojira-Ah a Ira_with_bass_0.9.gp5\n",
      "✅ Done.\n",
      "Decoded Gojira-Ah a Ira_with_bass_0.9 to ./gp5_out/Gojira-Ah a Ira_with_bass_0.9.gp5\n",
      "\n",
      "Processing: DECODE from tokens_out\\Herbie Hancock-Saturday Night_with_bass_0.9.txt to ./gp5_out/Herbie Hancock-Saturday Night_with_bass_0.9.gp5\n",
      "✅ Done.\n",
      "Decoded Herbie Hancock-Saturday Night_with_bass_0.9 to ./gp5_out/Herbie Hancock-Saturday Night_with_bass_0.9.gp5\n",
      "\n",
      "Processing: DECODE from tokens_out\\Herbie Hancock-Saturday Night_with_bass_0.9_2.txt to ./gp5_out/Herbie Hancock-Saturday Night_with_bass_0.9_2.gp5\n",
      "✅ Done.\n",
      "Decoded Herbie Hancock-Saturday Night_with_bass_0.9_2 to ./gp5_out/Herbie Hancock-Saturday Night_with_bass_0.9_2.gp5\n",
      "\n",
      "Processing: DECODE from tokens_out\\Kings Of Leon-California Waiting_with_bass_0.9.txt to ./gp5_out/Kings Of Leon-California Waiting_with_bass_0.9.gp5\n",
      "✅ Done.\n",
      "Decoded Kings Of Leon-California Waiting_with_bass_0.9 to ./gp5_out/Kings Of Leon-California Waiting_with_bass_0.9.gp5\n",
      "\n",
      "Processing: DECODE from tokens_out\\Sir Lord Baltimore-Kingdom Come_with_bass_0.9.txt to ./gp5_out/Sir Lord Baltimore-Kingdom Come_with_bass_0.9.gp5\n",
      "✅ Done.\n",
      "Decoded Sir Lord Baltimore-Kingdom Come_with_bass_0.9 to ./gp5_out/Sir Lord Baltimore-Kingdom Come_with_bass_0.9.gp5\n",
      "\n",
      "Processing: DECODE from tokens_out\\Sir Lord Baltimore-Kingdom Come_with_bass_0.9_2.txt to ./gp5_out/Sir Lord Baltimore-Kingdom Come_with_bass_0.9_2.gp5\n",
      "✅ Done.\n",
      "Decoded Sir Lord Baltimore-Kingdom Come_with_bass_0.9_2 to ./gp5_out/Sir Lord Baltimore-Kingdom Come_with_bass_0.9_2.gp5\n",
      "\n",
      "Processing: DECODE from tokens_out\\Sum 41-Fat Lip_with_bass_0.9.txt to ./gp5_out/Sum 41-Fat Lip_with_bass_0.9.gp5\n",
      "✅ Done.\n",
      "Decoded Sum 41-Fat Lip_with_bass_0.9 to ./gp5_out/Sum 41-Fat Lip_with_bass_0.9.gp5\n",
      "\n",
      "Processing: DECODE from tokens_out\\Sum 41-Fat Lip_with_bass_0.9_2.txt to ./gp5_out/Sum 41-Fat Lip_with_bass_0.9_2.gp5\n",
      "✅ Done.\n",
      "Decoded Sum 41-Fat Lip_with_bass_0.9_2 to ./gp5_out/Sum 41-Fat Lip_with_bass_0.9_2.gp5\n",
      "\n",
      "Processing: DECODE from tokens_out\\Sum 41-Fat Lip_with_bass_0.9_3.txt to ./gp5_out/Sum 41-Fat Lip_with_bass_0.9_3.gp5\n",
      "✅ Done.\n",
      "Decoded Sum 41-Fat Lip_with_bass_0.9_3 to ./gp5_out/Sum 41-Fat Lip_with_bass_0.9_3.gp5\n",
      "\n",
      "Processing: DECODE from tokens_out\\Ultra Vomit-Ricard Peinard_with_bass_0.9.txt to ./gp5_out/Ultra Vomit-Ricard Peinard_with_bass_0.9.gp5\n",
      "✅ Done.\n",
      "Decoded Ultra Vomit-Ricard Peinard_with_bass_0.9 to ./gp5_out/Ultra Vomit-Ricard Peinard_with_bass_0.9.gp5\n",
      "\n"
     ]
    }
   ],
   "source": [
    "for token_file in inp_path:\n",
    "    trk_name = token_file.split('\\\\')[-1][:-4]\n",
    "    output_file = out_path + trk_name + '.gp5'\n",
    "    try:\n",
    "        dadagp_conversion(\"decode\", token_file, output_file, verbose=False)\n",
    "        print(f\"Decoded {trk_name} to {output_file}\\n\")\n",
    "    except:\n",
    "        print(f\"Failed to decode {trk_name}\\n\")"
   ]
  }
 ],
 "metadata": {
  "kernelspec": {
   "display_name": "DADAGP",
   "language": "python",
   "name": "python3"
  },
  "language_info": {
   "codemirror_mode": {
    "name": "ipython",
    "version": 3
   },
   "file_extension": ".py",
   "mimetype": "text/x-python",
   "name": "python",
   "nbconvert_exporter": "python",
   "pygments_lexer": "ipython3",
   "version": "3.13.2"
  }
 },
 "nbformat": 4,
 "nbformat_minor": 2
}
