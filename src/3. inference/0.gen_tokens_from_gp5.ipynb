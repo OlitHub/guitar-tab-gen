{
 "cells": [
  {
   "cell_type": "markdown",
   "metadata": {},
   "source": [
    "## Take GP5 files and output token txt files"
   ]
  },
  {
   "cell_type": "code",
   "execution_count": 45,
   "metadata": {},
   "outputs": [
    {
     "name": "stdout",
     "output_type": "stream",
     "text": [
      "The autoreload extension is already loaded. To reload it, use:\n",
      "  %reload_ext autoreload\n"
     ]
    }
   ],
   "source": [
    "# Import the autoreload extension\n",
    "%load_ext autoreload\n",
    "\n",
    "# Set autoreload to reload all modules (except those excluded by %aimport)\n",
    "%autoreload 2\n",
    "\n",
    "import os\n",
    "os.environ[\"CUDA_VISIBLE_DEVICES\"]=\"0\" #for GPU inference\n",
    "from glob import glob\n",
    "\n",
    "from dadagp import dadagp_conversion"
   ]
  },
  {
   "cell_type": "code",
   "execution_count": 46,
   "metadata": {},
   "outputs": [],
   "source": [
    "#input folder (put txt token files of rg only here)\n",
    "inp_path = glob('gp5_in/*.gp5')\n",
    "#output folder\n",
    "out_path = './tokens_in/'"
   ]
  },
  {
   "cell_type": "code",
   "execution_count": 47,
   "metadata": {},
   "outputs": [
    {
     "name": "stdout",
     "output_type": "stream",
     "text": [
      "./tokens_in/Abba-Dancing Queen_rythmic.txt already exists\n",
      "\n",
      "./tokens_in/Arctic Monkeys-Do I Wanna Know_rythmic.txt already exists\n",
      "\n",
      "./tokens_in/Camel-Ice_rythmic.txt already exists\n",
      "\n",
      "./tokens_in/Earth, Wind And Fire-September_rythmicgp5.txt already exists\n",
      "\n",
      "Processing: ENCODE from gp5_in\\Gojira-Ah! Ça Ira!_rythmic.gp5 to ./tokens_in/Gojira-Ah! Ça Ira!_rythmic.txt\n",
      "✅ Done.\n",
      "Encoded Gojira-Ah! Ça Ira!_rythmic to ./tokens_in/Gojira-Ah! Ça Ira!_rythmic.txt\n",
      "\n",
      "Processing: ENCODE from gp5_in\\Gojira-Vacuity_rythmic.gp5 to ./tokens_in/Gojira-Vacuity_rythmic.txt\n",
      "✅ Done.\n",
      "Encoded Gojira-Vacuity_rythmic to ./tokens_in/Gojira-Vacuity_rythmic.txt\n",
      "\n",
      "./tokens_in/Herbie Hancock-Saturday Night_rythmic.txt already exists\n",
      "\n",
      "./tokens_in/Kings Of Leon-California Waiting_rythmic.txt already exists\n",
      "\n",
      "./tokens_in/Sir Lord Baltimore-Kingdom Come_rythmic.txt already exists\n",
      "\n",
      "./tokens_in/Sum 41-Fat Lip_rythmic.txt already exists\n",
      "\n",
      "./tokens_in/Ultra Vomit-Ricard Peinard_rythmic.txt already exists\n",
      "\n"
     ]
    }
   ],
   "source": [
    "for token_file in inp_path:\n",
    "    trk_name = token_file.split('\\\\')[-1][:-4]\n",
    "    output_file = out_path + trk_name + '.txt'\n",
    "    \n",
    "    # check if the file already exists\n",
    "    if os.path.exists(output_file):\n",
    "        print(f\"{output_file} already exists\\n\")\n",
    "        continue\n",
    "    \n",
    "    try:\n",
    "        dadagp_conversion(\"encode\", token_file, output_file, verbose=False)\n",
    "        print(f\"Encoded {trk_name} to {output_file}\\n\")\n",
    "    except:\n",
    "        print(f\"Failed to encode {trk_name}\\n\")"
   ]
  },
  {
   "cell_type": "code",
   "execution_count": 48,
   "metadata": {},
   "outputs": [
    {
     "name": "stdout",
     "output_type": "stream",
     "text": [
      "./tokens_in_cleaned/Abba-Dancing Queen_rythmic.txt already exists\n",
      "\n",
      "./tokens_in_cleaned/Arctic Monkeys-Do I Wanna Know_rythmic.txt already exists\n",
      "\n",
      "./tokens_in_cleaned/Camel-Ice_rythmic.txt already exists\n",
      "\n",
      "./tokens_in_cleaned/Earth, Wind And Fire-September_rythmicgp5.txt already exists\n",
      "\n",
      "Cleaned Gojira-Ah! Ça Ira!_rythmic to ./tokens_in_cleaned/Gojira-Ah! Ça Ira!_rythmic.txt\n",
      "\n",
      "./tokens_in_cleaned/Herbie Hancock-Saturday Night_rythmic.txt already exists\n",
      "\n",
      "./tokens_in_cleaned/Kings Of Leon-California Waiting_rythmic.txt already exists\n",
      "\n",
      "./tokens_in_cleaned/Sir Lord Baltimore-Kingdom Come_rythmic.txt already exists\n",
      "\n",
      "./tokens_in_cleaned/Sum 41-Fat Lip_rythmic.txt already exists\n",
      "\n",
      "./tokens_in_cleaned/Ultra Vomit-Ricard Peinard_rythmic.txt already exists\n",
      "\n"
     ]
    }
   ],
   "source": [
    "# Clean token files\n",
    "\n",
    "from aux_files.aux_fun import write_tokens_from_file, merge_consecutive_waits\n",
    "\n",
    "instrument_dict ={\n",
    "    \"distorted0\": True,\n",
    "    \"distorted1\": True,\n",
    "    \"distorted2\": True,\n",
    "    \"clean0\": True,\n",
    "    \"clean1\": True,\n",
    "    \"bass\": True,\n",
    "    \"leads\": True,    \n",
    "    \"pads\": True,\n",
    "    \"drums\": True,\n",
    "}\n",
    "\n",
    "clean_out_path = './tokens_in_cleaned/'\n",
    "\n",
    "for token_file in glob(out_path + '*.txt'):\n",
    "    trk_name = token_file.split('\\\\')[-1][:-4]\n",
    "    output_file = clean_out_path + trk_name + '.txt'\n",
    "    \n",
    "    # check if the file already exists\n",
    "    if os.path.exists(output_file):\n",
    "        print(f\"{output_file} already exists\\n\")\n",
    "        continue\n",
    "    \n",
    "    with open(token_file, 'r') as f_1:\n",
    "        \n",
    "        with open(output_file, 'w') as f_2:\n",
    "            \n",
    "            input_txt = f_1.read()\n",
    "    \n",
    "            write_tokens_from_file(instrument_dict, input_txt, f_2)\n",
    "            \n",
    "            merge_consecutive_waits(output_file)\n",
    "            \n",
    "    # Replace first line by 'artist:unknown_artist'\n",
    "    with open(output_file, 'r') as f:\n",
    "        lines = f.readlines()\n",
    "    with open(output_file, 'w') as f:\n",
    "        f.write('artist:unknown_artist\\n')\n",
    "        f.writelines(lines[1:])\n",
    "    \n",
    "    print(f\"Cleaned {trk_name} to {output_file}\\n\")\n",
    "    # except:\n",
    "    #     print(f\"Failed to clean {trk_name}\\n\")"
   ]
  }
 ],
 "metadata": {
  "kernelspec": {
   "display_name": "DADAGP",
   "language": "python",
   "name": "python3"
  },
  "language_info": {
   "codemirror_mode": {
    "name": "ipython",
    "version": 3
   },
   "file_extension": ".py",
   "mimetype": "text/x-python",
   "name": "python",
   "nbconvert_exporter": "python",
   "pygments_lexer": "ipython3",
   "version": "3.13.2"
  }
 },
 "nbformat": 4,
 "nbformat_minor": 2
}
