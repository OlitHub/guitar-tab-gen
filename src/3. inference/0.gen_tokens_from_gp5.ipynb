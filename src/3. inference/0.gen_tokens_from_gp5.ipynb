{
 "cells": [
  {
   "cell_type": "markdown",
   "metadata": {},
   "source": [
    "## Take GP5 files and output token txt files"
   ]
  },
  {
   "cell_type": "code",
   "execution_count": 7,
   "metadata": {},
   "outputs": [
    {
     "name": "stdout",
     "output_type": "stream",
     "text": [
      "The autoreload extension is already loaded. To reload it, use:\n",
      "  %reload_ext autoreload\n"
     ]
    }
   ],
   "source": [
    "# Import the autoreload extension\n",
    "%load_ext autoreload\n",
    "\n",
    "# Set autoreload to reload all modules (except those excluded by %aimport)\n",
    "%autoreload 2\n",
    "\n",
    "import os\n",
    "os.environ[\"CUDA_VISIBLE_DEVICES\"]=\"0\" #for GPU inference\n",
    "from glob import glob\n",
    "\n",
    "from dadagp import dadagp_conversion"
   ]
  },
  {
   "cell_type": "code",
   "execution_count": 8,
   "metadata": {},
   "outputs": [],
   "source": [
    "#input folder (put txt token files of rg only here)\n",
    "inp_path = glob('gp5_in/*')\n",
    "#output folder\n",
    "out_path = './tokens_in/'"
   ]
  },
  {
   "cell_type": "code",
   "execution_count": 9,
   "metadata": {},
   "outputs": [
    {
     "name": "stdout",
     "output_type": "stream",
     "text": [
      "Processing: ENCODE from gp5_in\\Kings Of Leon-California Waiting.gp5 to ./tokens_in/Kings Of Leon-California Waiting.txt\n",
      "✅ Done.\n",
      "Encoded Kings Of Leon-California Waiting to ./tokens_in/Kings Of Leon-California Waiting.txt\n",
      "\n"
     ]
    }
   ],
   "source": [
    "for token_file in inp_path:\n",
    "    trk_name = token_file.split('\\\\')[-1][:-4]\n",
    "    output_file = out_path + trk_name + '.txt'\n",
    "    try:\n",
    "        dadagp_conversion(\"encode\", token_file, output_file, verbose=False)\n",
    "        print(f\"Encoded {trk_name} to {output_file}\\n\")\n",
    "    except:\n",
    "        print(f\"Failed to encode {trk_name}\\n\")"
   ]
  }
 ],
 "metadata": {
  "kernelspec": {
   "display_name": "DADAGP",
   "language": "python",
   "name": "python3"
  },
  "language_info": {
   "codemirror_mode": {
    "name": "ipython",
    "version": 3
   },
   "file_extension": ".py",
   "mimetype": "text/x-python",
   "name": "python",
   "nbconvert_exporter": "python",
   "pygments_lexer": "ipython3",
   "version": "3.13.2"
  }
 },
 "nbformat": 4,
 "nbformat_minor": 2
}
