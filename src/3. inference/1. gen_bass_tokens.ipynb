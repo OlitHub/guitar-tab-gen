{
 "cells": [
  {
   "cell_type": "code",
   "execution_count": null,
   "metadata": {},
   "outputs": [],
   "source": [
    "#!/usr/bin/env python3\n",
    "# -*- coding: utf-8 -*-\n",
    "\"\"\"\n",
    "\n",
    "\"\"\"\n",
    "\n",
    "# Import the autoreload extension\n",
    "%load_ext autoreload\n",
    "\n",
    "# Set autoreload to reload all modules (except those excluded by %aimport)\n",
    "%autoreload 2\n",
    "\n",
    "\n",
    "import os\n",
    "os.environ[\"CUDA_VISIBLE_DEVICES\"]=\"0\" #for GPU inference\n",
    "from glob import glob\n",
    "import pickle5 as pickle\n",
    "import pretty_midi as pm\n",
    "from gen_utils import bass_trans_ev_model_tf, generate_bass_ev_trans_tf, create_enc, create_onehot_enc"
   ]
  },
  {
   "cell_type": "code",
   "execution_count": 2,
   "metadata": {},
   "outputs": [],
   "source": [
    "'''load Encoders pickle for onehotencoders'''\n",
    "\n",
    "#encoders pickle is created during pre-processing\n",
    "encoders_trans = './aux_files/bass_encoders_cp.pickle'\n",
    "\n",
    "    \n",
    "with open(encoders_trans, 'rb') as handle:\n",
    "    TransEncoders = pickle.load(handle)\n",
    "#[Encoder_RG, Decoder_Bass]"
   ]
  },
  {
   "cell_type": "code",
   "execution_count": 3,
   "metadata": {},
   "outputs": [
    {
     "name": "stdout",
     "output_type": "stream",
     "text": [
      "Loading Hybrid Music Transformer\n"
     ]
    }
   ],
   "source": [
    "'''Load Inference Transformer. You may download pre-trained model based \n",
    "on the paper. See instructions in ReadME.md'''\n",
    "trans_bass_hb = bass_trans_ev_model_tf(TransEncoders) \n",
    "\n",
    "\n",
    "'''Set Temperature'''\n",
    "temperature = 0.9\n",
    "\n",
    "'''Load MIDI files with Guitar (1st) and Bass (2nd). See examples in midi_in folder'''\n",
    "'''max 16 bars'''\n",
    "#input folder (put txt token files of rg only here)\n",
    "inp_path = glob('./tokens_in/*.txt')\n",
    "#output folder\n",
    "out_path = './tokens_out/'\n"
   ]
  },
  {
   "cell_type": "code",
   "execution_count": null,
   "metadata": {},
   "outputs": [
    {
     "name": "stdout",
     "output_type": "stream",
     "text": [
      "Generating.. Metallica - Enter Sandman (5)_rythmic\n",
      "Generating.. Muse - Plug In Baby (2)_rythmic\n",
      "Generating.. Radiohead - Exit Music (For a Film)_rythmic\n"
     ]
    }
   ],
   "source": [
    "for trk in inp_path:\n",
    "    #get name\n",
    "    trk_name = trk.split('\\\\')[-1][:-4] #you may change it depending your OS\n",
    "    print('Generating..', trk_name)\n",
    "    \n",
    "    # PREPROCESSING (get the sequence of tokens)\n",
    "    with open(trk, 'r') as f:\n",
    "        # Retrieve the sequence of tokens without the \\n\n",
    "        Encoder_RG = f.read().splitlines()\n",
    "    \n",
    "    # POST PROCESSING\n",
    "    #create the Encoder: convert tokens to one-hot encoding\n",
    "    Enc_Input = create_onehot_enc(Encoder_RG, TransEncoders)\n",
    "    \n",
    "    # # call generation functions\n",
    "    # onsets_HB, bass_HB = generate_bass_ev_trans_tf(trans_bass_hb, TransEncoders, temperature, Enc_Input, dec_seq_length=793)      \n",
    "    # # save token files to be passed to the tokens2gp5 algorithm\n",
    "    # save_path = out_path+trk_name\n",
    "    # save_path.replace('_rythmic', '_with_bass.txt')\n",
    "    # bass_HB.write(save_path)\n",
    "    "
   ]
  }
 ],
 "metadata": {
  "kernelspec": {
   "display_name": "CP_DRUMS",
   "language": "python",
   "name": "python3"
  },
  "language_info": {
   "codemirror_mode": {
    "name": "ipython",
    "version": 3
   },
   "file_extension": ".py",
   "mimetype": "text/x-python",
   "name": "python",
   "nbconvert_exporter": "python",
   "pygments_lexer": "ipython3",
   "version": "3.7.16"
  }
 },
 "nbformat": 4,
 "nbformat_minor": 2
}
