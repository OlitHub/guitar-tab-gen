{
 "cells": [
  {
   "cell_type": "code",
   "execution_count": 11,
   "metadata": {},
   "outputs": [
    {
     "name": "stdout",
     "output_type": "stream",
     "text": [
      "The autoreload extension is already loaded. To reload it, use:\n",
      "  %reload_ext autoreload\n"
     ]
    }
   ],
   "source": [
    "#!/usr/bin/env python3\n",
    "# -*- coding: utf-8 -*-\n",
    "\"\"\"\n",
    "\n",
    "\"\"\"\n",
    "\n",
    "# Import the autoreload extension\n",
    "%load_ext autoreload\n",
    "\n",
    "# Set autoreload to reload all modules (except those excluded by %aimport)\n",
    "%autoreload 2\n",
    "\n",
    "import os\n",
    "os.environ[\"CUDA_VISIBLE_DEVICES\"]=\"0\" #for GPU inference\n",
    "from glob import glob\n",
    "import pickle as pickle\n",
    "from gen_utils import bass_trans_ev_model_tf, generate_bass_ev_trans_tf, create_onehot_enc"
   ]
  },
  {
   "cell_type": "code",
   "execution_count": 12,
   "metadata": {},
   "outputs": [],
   "source": [
    "thr_measures = 16\n",
    "thr_max_tokens = 800\n",
    "thr_min_tokens = 50\n",
    "dec_seq_length = 793"
   ]
  },
  {
   "cell_type": "code",
   "execution_count": 13,
   "metadata": {},
   "outputs": [],
   "source": [
    "'''load Encoders pickle for onehotencoders'''\n",
    "\n",
    "#encoders pickle is created during pre-processing\n",
    "encoders_trans = './aux_files/bass_encoders_cp.pickle'\n",
    "\n",
    "    \n",
    "with open(encoders_trans, 'rb') as handle:\n",
    "    TransEncoders = pickle.load(handle)\n",
    "#[Encoder_RG, Decoder_Bass]"
   ]
  },
  {
   "cell_type": "code",
   "execution_count": 14,
   "metadata": {},
   "outputs": [
    {
     "name": "stdout",
     "output_type": "stream",
     "text": [
      "Loading Hybrid Music Transformer\n",
      "Latest checkpoint restored!\n"
     ]
    }
   ],
   "source": [
    "'''Load Inference Transformer. You may download pre-trained model based \n",
    "on the paper. See instructions in ReadME.md'''\n",
    "trans_bass_hb = bass_trans_ev_model_tf(TransEncoders, dec_seq_length)\n",
    "\n",
    "\n",
    "'''Set Temperature'''\n",
    "temperature = 0.9\n",
    "\n",
    "'''Load MIDI files with Guitar (1st) and Bass (2nd). See examples in midi_in folder'''\n",
    "'''max 16 bars'''\n",
    "#input folder (put txt token files of rg only here)\n",
    "inp_path = glob('./tokens_in/*.txt')\n",
    "#output folder\n",
    "out_path = './tokens_out/'\n"
   ]
  },
  {
   "cell_type": "code",
   "execution_count": 15,
   "metadata": {},
   "outputs": [
    {
     "name": "stdout",
     "output_type": "stream",
     "text": [
      "Generating.. ACDC - Highway to Hell_rythmic\n"
     ]
    },
    {
     "name": "stderr",
     "output_type": "stream",
     "text": [
      " 15%|█▍        | 117/793 [14:04<1:21:21,  7.22s/it]\n"
     ]
    },
    {
     "name": "stdout",
     "output_type": "stream",
     "text": [
      "Generated 118 tokens\n",
      "Generating.. Genesis - I Can't Dance_rythmic\n"
     ]
    },
    {
     "name": "stderr",
     "output_type": "stream",
     "text": [
      " 10%|█         | 81/793 [10:07<1:28:59,  7.50s/it]\n"
     ]
    },
    {
     "name": "stdout",
     "output_type": "stream",
     "text": [
      "Generated 82 tokens\n",
      "Generating.. Metallica - Enter Sandman (5)_rythmic\n"
     ]
    },
    {
     "name": "stderr",
     "output_type": "stream",
     "text": [
      " 30%|██▉       | 235/793 [27:04<1:04:17,  6.91s/it]\n"
     ]
    },
    {
     "name": "stdout",
     "output_type": "stream",
     "text": [
      "Generated 236 tokens\n",
      "Generating.. Muse - Plug In Baby (2)_rythmic\n"
     ]
    },
    {
     "name": "stderr",
     "output_type": "stream",
     "text": [
      " 23%|██▎       | 184/793 [19:31<1:04:38,  6.37s/it]\n"
     ]
    },
    {
     "name": "stdout",
     "output_type": "stream",
     "text": [
      "Generated 185 tokens\n",
      "Generating.. Radiohead - Exit Music (For a Film)_rythmic\n"
     ]
    },
    {
     "name": "stderr",
     "output_type": "stream",
     "text": [
      " 18%|█▊        | 146/793 [15:36<1:09:10,  6.42s/it]\n"
     ]
    },
    {
     "name": "stdout",
     "output_type": "stream",
     "text": [
      "Generated 147 tokens\n",
      "Generating.. System Of A Down - Chop Suey_rythmic\n"
     ]
    },
    {
     "name": "stderr",
     "output_type": "stream",
     "text": [
      " 71%|███████   | 564/793 [4:14:21<1:43:16, 27.06s/it]    "
     ]
    },
    {
     "name": "stdout",
     "output_type": "stream",
     "text": [
      "Generated 565 tokens\n"
     ]
    },
    {
     "name": "stderr",
     "output_type": "stream",
     "text": [
      "\n"
     ]
    }
   ],
   "source": [
    "for trk in inp_path:\n",
    "    #get name\n",
    "    trk_name = trk.split('\\\\')[-1][:-4] #you may change it depending your OS\n",
    "    print('Generating..', trk_name)\n",
    "    save_path = out_path+trk_name\n",
    "    save_path = save_path.replace('_rythmic', '_with_bass_' + str(temperature) + '.txt')\n",
    "    \n",
    "    if os.path.exists(save_path):\n",
    "        print('Already generated..', trk_name)\n",
    "        continue\n",
    "    # PREPROCESSING (get the sequence of tokens)\n",
    "    rg_sequence = []\n",
    "    \n",
    "    with open(trk, 'r') as rg_file:\n",
    "        # Retrieve the sequence of tokens of the 16 first bars\n",
    "        rg_lines = rg_file.readlines()\n",
    "        count_measures = 0\n",
    "        rg_token_count = 0\n",
    "        for line in rg_lines:\n",
    "            rg_token_count+=1\n",
    "            if line.strip() == \"new_measure\":\n",
    "                count_measures+=1\n",
    "                if count_measures == thr_measures:\n",
    "                    break\n",
    "        \n",
    "            rg_sequence.append(line.strip())\n",
    "    \n",
    "    # POST PROCESSING\n",
    "    #create the Encoder: convert tokens to one-hot encoding\n",
    "    Enc_Input = create_onehot_enc(rg_sequence, TransEncoders)\n",
    "    #padding (add 0s to the input until it reaches length 793)\n",
    "    Enc_Input = Enc_Input + [0]*(dec_seq_length-len(Enc_Input))\n",
    "\n",
    "    # call generation functions\n",
    "    bass_HB = generate_bass_ev_trans_tf(trans_bass_hb, TransEncoders, temperature, Enc_Input, dec_seq_length=dec_seq_length)      \n",
    "    # save token files to be passed to the tokens2gp5 algorithm\n",
    "    with open(save_path, 'w') as f:\n",
    "        for token in bass_HB:\n",
    "            f.write(\"%s\\n\" % token)\n",
    "    "
   ]
  }
 ],
 "metadata": {
  "kernelspec": {
   "display_name": "CP_DRUMS",
   "language": "python",
   "name": "python3"
  },
  "language_info": {
   "codemirror_mode": {
    "name": "ipython",
    "version": 3
   },
   "file_extension": ".py",
   "mimetype": "text/x-python",
   "name": "python",
   "nbconvert_exporter": "python",
   "pygments_lexer": "ipython3",
   "version": "3.7.16"
  }
 },
 "nbformat": 4,
 "nbformat_minor": 2
}
