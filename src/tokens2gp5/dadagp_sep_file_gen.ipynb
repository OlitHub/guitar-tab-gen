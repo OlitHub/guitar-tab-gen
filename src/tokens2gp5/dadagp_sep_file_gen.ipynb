{
 "cells": [
  {
   "cell_type": "code",
   "execution_count": null,
   "metadata": {},
   "outputs": [],
   "source": [
    "# Read the txt file\n",
    "instrument_check = {\n",
    "        \"distorted0\": False,\n",
    "        \"distorted1\": False,\n",
    "        \"distorted2\": False,\n",
    "        \"clean0\": False,\n",
    "        \"clean1\": False,\n",
    "        \"bass\": False,\n",
    "        \"leads\": False,    \n",
    "        \"pads\": False,\n",
    "        \"drums\": False,\n",
    "    }\n",
    "\n",
    "with open('text.txt') as f:\n",
    "    text = f.read()\n",
    "    # Set the value of the dictionary to True if the instrument is found in the text\n",
    "    for key in instrument_check:\n",
    "        if key in text:\n",
    "            instrument_check[key] = True\n",
    "    \n",
    "    # Iterate over the instrument present in the text\n",
    "    for key, value in instrument_check.items():\n",
    "        if value:\n",
    "            # Generate a txt file only containing the lines refering to the instrument\n",
    "            with open(f\"{key}.txt\", \"w\") as f:\n",
    "                \n",
    "                in_measure = False\n",
    "                check_nfx = False\n",
    "                for line in text.split(\"\\n\"):\n",
    "                    # print(everything until we reach the measures)\n",
    "                    \n",
    "                    if \"measure\" in line:\n",
    "                        f.write(line + \"\\n\")\n",
    "                        in_measure=True\n",
    "                    \n",
    "                    elif not in_measure:\n",
    "                        f.write(line + \"\\n\")\n",
    "                    \n",
    "                    if check_nfx:\n",
    "                        if \"nfx\" in line or \"beatfx\" in line:\n",
    "                            f.write(line + \"\\n\")\n",
    "                        else:\n",
    "                            check_nfx = False\n",
    "                    \n",
    "                    if in_measure:\n",
    "                        # print only the lines that contain the instrument and the next if they nfx or beatfx\n",
    "                        if key in line or 'wait' in line:\n",
    "                            f.write(line + \"\\n\")\n",
    "                            check_nfx = True\n",
    "                            \n",
    "                            "
   ]
  },
  {
   "cell_type": "code",
   "execution_count": null,
   "metadata": {},
   "outputs": [],
   "source": []
  },
  {
   "cell_type": "code",
   "execution_count": null,
   "metadata": {},
   "outputs": [],
   "source": []
  }
 ],
 "metadata": {
  "kernelspec": {
   "display_name": "guitar-tab-gen-46NkS0NQ-py3.11",
   "language": "python",
   "name": "python3"
  },
  "language_info": {
   "codemirror_mode": {
    "name": "ipython",
    "version": 3
   },
   "file_extension": ".py",
   "mimetype": "text/x-python",
   "name": "python",
   "nbconvert_exporter": "python",
   "pygments_lexer": "ipython3",
   "version": "3.11.7"
  }
 },
 "nbformat": 4,
 "nbformat_minor": 2
}
