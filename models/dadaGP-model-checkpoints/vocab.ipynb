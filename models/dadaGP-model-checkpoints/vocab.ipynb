{
 "cells": [
  {
   "cell_type": "code",
   "execution_count": 25,
   "metadata": {},
   "outputs": [
    {
     "data": {
      "text/plain": [
       "(96, 628, 203, 231, 363)"
      ]
     },
     "execution_count": 25,
     "metadata": {},
     "output_type": "execute_result"
    }
   ],
   "source": [
    "import pickle as pkl\n",
    "\n",
    "vocab_song_artist = pkl.load(open('vocab_song_artist.pkl', 'rb'))\n",
    "\n",
    "vocab_song_artist\n",
    "\n",
    "# Retrieve index where key contains drums, distorted, clear\n",
    "\n",
    "drums = [i for i, x in enumerate(vocab_song_artist) if 'drums' in x]\n",
    "distorted = [i for i, x in enumerate(vocab_song_artist) if 'distorted' in x] # type of electric guitar\n",
    "pads = [i for i, x in enumerate(vocab_song_artist) if 'pads' in x] # sort of piano?\n",
    "leads = [i for i, x in enumerate(vocab_song_artist) if 'leads' in x] # lead singer?\n",
    "clean = [i for i, x in enumerate(vocab_song_artist) if 'clean' in x] # type of electric guitar\n",
    "\n",
    "indexes_to_remove = drums + distorted + pads + leads + clean\n",
    "\n",
    "len(drums), len(distorted), len(pads), len(leads), len(clean)"
   ]
  },
  {
   "cell_type": "code",
   "execution_count": 26,
   "metadata": {},
   "outputs": [],
   "source": [
    "# Look at the cleaned vocab to check if there is no remaining instrument other than the bass\n",
    "vocab_cleaned = [i for j, i in enumerate(vocab_song_artist) if j not in indexes_to_remove]\n"
   ]
  },
  {
   "cell_type": "code",
   "execution_count": 27,
   "metadata": {},
   "outputs": [],
   "source": [
    "# save the indexes to remove as a pickle file\n",
    "pkl.dump(indexes_to_remove, open('indexes_to_remove.pkl', 'wb'))"
   ]
  }
 ],
 "metadata": {
  "kernelspec": {
   "display_name": ".venv",
   "language": "python",
   "name": "python3"
  },
  "language_info": {
   "codemirror_mode": {
    "name": "ipython",
    "version": 3
   },
   "file_extension": ".py",
   "mimetype": "text/x-python",
   "name": "python",
   "nbconvert_exporter": "python",
   "pygments_lexer": "ipython3",
   "version": "3.10.13"
  }
 },
 "nbformat": 4,
 "nbformat_minor": 2
}
